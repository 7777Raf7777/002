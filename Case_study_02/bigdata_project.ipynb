{
 "cells": [
  {
   "cell_type": "code",
   "execution_count": 0,
   "metadata": {
    "application/vnd.databricks.v1+cell": {
     "cellMetadata": {
      "byteLimit": 2048000,
      "rowLimit": 10000
     },
     "inputWidgets": {},
     "nuid": "09028ce6-1057-4f9f-bb20-715aecdd0b5a",
     "showTitle": false,
     "title": ""
    }
   },
   "outputs": [],
   "source": [
    "from pyspark.sql import functions as F\n",
    "from pyspark.sql import types as T\n",
    "from pyspark.sql import Window"
   ]
  },
  {
   "cell_type": "code",
   "execution_count": 0,
   "metadata": {
    "application/vnd.databricks.v1+cell": {
     "cellMetadata": {
      "byteLimit": 2048000,
      "rowLimit": 10000
     },
     "inputWidgets": {},
     "nuid": "c66837dd-a6d7-4642-9fbb-af15ade0b640",
     "showTitle": false,
     "title": ""
    }
   },
   "outputs": [],
   "source": [
    "source = spark.sparkContext\n",
    "path = \"s3://full-stack-bigdata-datasets/Big_Data/Project_Steam/steam_game_output.json\"\n",
    "df = spark.read.json(path)"
   ]
  },
  {
   "cell_type": "code",
   "execution_count": 0,
   "metadata": {
    "application/vnd.databricks.v1+cell": {
     "cellMetadata": {
      "byteLimit": 2048000,
      "rowLimit": 10000
     },
     "inputWidgets": {},
     "nuid": "7ca68f72-9293-47b0-bcc6-4fe90ac4d33c",
     "showTitle": false,
     "title": ""
    }
   },
   "outputs": [
    {
     "output_type": "stream",
     "name": "stdout",
     "output_type": "stream",
     "text": [
      "The DataFrame contains 55691 rows.\n"
     ]
    }
   ],
   "source": [
    "num_rows = df.count()\n",
    "print(f\"The DataFrame contains {num_rows} rows.\")"
   ]
  },
  {
   "cell_type": "code",
   "execution_count": 0,
   "metadata": {
    "application/vnd.databricks.v1+cell": {
     "cellMetadata": {
      "byteLimit": 2048000,
      "rowLimit": 10000
     },
     "inputWidgets": {},
     "nuid": "f5fc1b2f-33b1-4dbf-8e83-9c504dba4c2c",
     "showTitle": false,
     "title": ""
    }
   },
   "outputs": [
    {
     "output_type": "stream",
     "name": "stdout",
     "output_type": "stream",
     "text": [
      "root\n |-- data: struct (nullable = true)\n |    |-- appid: long (nullable = true)\n |    |-- categories: array (nullable = true)\n |    |    |-- element: string (containsNull = true)\n |    |-- ccu: long (nullable = true)\n |    |-- developer: string (nullable = true)\n |    |-- discount: string (nullable = true)\n |    |-- genre: string (nullable = true)\n |    |-- header_image: string (nullable = true)\n |    |-- initialprice: string (nullable = true)\n |    |-- languages: string (nullable = true)\n |    |-- name: string (nullable = true)\n |    |-- negative: long (nullable = true)\n |    |-- owners: string (nullable = true)\n |    |-- platforms: struct (nullable = true)\n |    |    |-- linux: boolean (nullable = true)\n |    |    |-- mac: boolean (nullable = true)\n |    |    |-- windows: boolean (nullable = true)\n |    |-- positive: long (nullable = true)\n |    |-- price: string (nullable = true)\n |    |-- publisher: string (nullable = true)\n |    |-- release_date: string (nullable = true)\n |    |-- required_age: string (nullable = true)\n |    |-- short_description: string (nullable = true)\n |    |-- tags: struct (nullable = true)\n |    |    |-- 1980s: long (nullable = true)\n |    |    |-- 1990's: long (nullable = true)\n |    |    |-- 2.5D: long (nullable = true)\n |    |    |-- 2D: long (nullable = true)\n |    |    |-- 2D Fighter: long (nullable = true)\n |    |    |-- 2D Platformer: long (nullable = true)\n |    |    |-- 360 Video: long (nullable = true)\n |    |    |-- 3D: long (nullable = true)\n |    |    |-- 3D Fighter: long (nullable = true)\n |    |    |-- 3D Platformer: long (nullable = true)\n |    |    |-- 3D Vision: long (nullable = true)\n |    |    |-- 4 Player Local: long (nullable = true)\n |    |    |-- 4X: long (nullable = true)\n |    |    |-- 6DOF: long (nullable = true)\n |    |    |-- 8-bit Music: long (nullable = true)\n |    |    |-- ATV: long (nullable = true)\n |    |    |-- Abstract: long (nullable = true)\n |    |    |-- Action: long (nullable = true)\n |    |    |-- Action RPG: long (nullable = true)\n |    |    |-- Action RTS: long (nullable = true)\n |    |    |-- Action Roguelike: long (nullable = true)\n |    |    |-- Action-Adventure: long (nullable = true)\n |    |    |-- Addictive: long (nullable = true)\n |    |    |-- Adventure: long (nullable = true)\n |    |    |-- Agriculture: long (nullable = true)\n |    |    |-- Aliens: long (nullable = true)\n |    |    |-- Alternate History: long (nullable = true)\n |    |    |-- Ambient: long (nullable = true)\n |    |    |-- America: long (nullable = true)\n |    |    |-- Animation & Modeling: long (nullable = true)\n |    |    |-- Anime: long (nullable = true)\n |    |    |-- Arcade: long (nullable = true)\n |    |    |-- Archery: long (nullable = true)\n |    |    |-- Arena Shooter: long (nullable = true)\n |    |    |-- Artificial Intelligence: long (nullable = true)\n |    |    |-- Assassin: long (nullable = true)\n |    |    |-- Asymmetric VR: long (nullable = true)\n |    |    |-- Asynchronous Multiplayer: long (nullable = true)\n |    |    |-- Atmospheric: long (nullable = true)\n |    |    |-- Audio Production: long (nullable = true)\n |    |    |-- Auto Battler: long (nullable = true)\n |    |    |-- Automation: long (nullable = true)\n |    |    |-- Automobile Sim: long (nullable = true)\n |    |    |-- BMX: long (nullable = true)\n |    |    |-- Base-Building: long (nullable = true)\n |    |    |-- Baseball: long (nullable = true)\n |    |    |-- Based On A Novel: long (nullable = true)\n |    |    |-- Basketball: long (nullable = true)\n |    |    |-- Battle Royale: long (nullable = true)\n |    |    |-- Beat 'em up: long (nullable = true)\n |    |    |-- Beautiful: long (nullable = true)\n |    |    |-- Benchmark: long (nullable = true)\n |    |    |-- Bikes: long (nullable = true)\n |    |    |-- Blood: long (nullable = true)\n |    |    |-- Board Game: long (nullable = true)\n |    |    |-- Boss Rush: long (nullable = true)\n |    |    |-- Bowling: long (nullable = true)\n |    |    |-- Boxing: long (nullable = true)\n |    |    |-- Building: long (nullable = true)\n |    |    |-- Bullet Hell: long (nullable = true)\n |    |    |-- Bullet Time: long (nullable = true)\n |    |    |-- CRPG: long (nullable = true)\n |    |    |-- Capitalism: long (nullable = true)\n |    |    |-- Card Battler: long (nullable = true)\n |    |    |-- Card Game: long (nullable = true)\n |    |    |-- Cartoon: long (nullable = true)\n |    |    |-- Cartoony: long (nullable = true)\n |    |    |-- Casual: long (nullable = true)\n |    |    |-- Cats: long (nullable = true)\n |    |    |-- Character Action Game: long (nullable = true)\n |    |    |-- Character Customization: long (nullable = true)\n |    |    |-- Chess: long (nullable = true)\n |    |    |-- Choices Matter: long (nullable = true)\n |    |    |-- Choose Your Own Adventure: long (nullable = true)\n |    |    |-- Cinematic: long (nullable = true)\n |    |    |-- City Builder: long (nullable = true)\n |    |    |-- Class-Based: long (nullable = true)\n |    |    |-- Classic: long (nullable = true)\n |    |    |-- Clicker: long (nullable = true)\n |    |    |-- Co-op: long (nullable = true)\n |    |    |-- Co-op Campaign: long (nullable = true)\n |    |    |-- Coding: long (nullable = true)\n |    |    |-- Cold War: long (nullable = true)\n |    |    |-- Collectathon: long (nullable = true)\n |    |    |-- Colony Sim: long (nullable = true)\n |    |    |-- Colorful: long (nullable = true)\n |    |    |-- Combat: long (nullable = true)\n |    |    |-- Combat Racing: long (nullable = true)\n |    |    |-- Comedy: long (nullable = true)\n |    |    |-- Comic Book: long (nullable = true)\n |    |    |-- Competitive: long (nullable = true)\n |    |    |-- Conspiracy: long (nullable = true)\n |    |    |-- Controller: long (nullable = true)\n |    |    |-- Conversation: long (nullable = true)\n |    |    |-- Cooking: long (nullable = true)\n |    |    |-- Cozy: long (nullable = true)\n |    |    |-- Crafting: long (nullable = true)\n |    |    |-- Creature Collector: long (nullable = true)\n |    |    |-- Cricket: long (nullable = true)\n |    |    |-- Crime: long (nullable = true)\n |    |    |-- Crowdfunded: long (nullable = true)\n |    |    |-- Cult Classic: long (nullable = true)\n |    |    |-- Cute: long (nullable = true)\n |    |    |-- Cyberpunk: long (nullable = true)\n |    |    |-- Cycling: long (nullable = true)\n |    |    |-- Dark: long (nullable = true)\n |    |    |-- Dark Comedy: long (nullable = true)\n |    |    |-- Dark Fantasy: long (nullable = true)\n |    |    |-- Dark Humor: long (nullable = true)\n |    |    |-- Dating Sim: long (nullable = true)\n |    |    |-- Deckbuilding: long (nullable = true)\n |    |    |-- Demons: long (nullable = true)\n |    |    |-- Design & Illustration: long (nullable = true)\n |    |    |-- Destruction: long (nullable = true)\n |    |    |-- Detective: long (nullable = true)\n |    |    |-- Difficult: long (nullable = true)\n |    |    |-- Dinosaurs: long (nullable = true)\n |    |    |-- Diplomacy: long (nullable = true)\n |    |    |-- Documentary: long (nullable = true)\n |    |    |-- Dog: long (nullable = true)\n |    |    |-- Dragons: long (nullable = true)\n |    |    |-- Drama: long (nullable = true)\n |    |    |-- Driving: long (nullable = true)\n |    |    |-- Dungeon Crawler: long (nullable = true)\n |    |    |-- Dungeons & Dragons: long (nullable = true)\n |    |    |-- Dynamic Narration: long (nullable = true)\n |    |    |-- Dystopian : long (nullable = true)\n |    |    |-- Early Access: long (nullable = true)\n |    |    |-- Economy: long (nullable = true)\n |    |    |-- Education: long (nullable = true)\n |    |    |-- Electronic: long (nullable = true)\n |    |    |-- Electronic Music: long (nullable = true)\n |    |    |-- Emotional: long (nullable = true)\n |    |    |-- Epic: long (nullable = true)\n |    |    |-- Episodic: long (nullable = true)\n |    |    |-- Escape Room: long (nullable = true)\n |    |    |-- Experience: long (nullable = true)\n |    |    |-- Experimental: long (nullable = true)\n |    |    |-- Exploration: long (nullable = true)\n |    |    |-- FMV: long (nullable = true)\n |    |    |-- FPS: long (nullable = true)\n |    |    |-- Faith: long (nullable = true)\n |    |    |-- Family Friendly: long (nullable = true)\n |    |    |-- Fantasy: long (nullable = true)\n |    |    |-- Farming: long (nullable = true)\n |    |    |-- Farming Sim: long (nullable = true)\n |    |    |-- Fast-Paced: long (nullable = true)\n |    |    |-- Feature Film: long (nullable = true)\n |    |    |-- Female Protagonist: long (nullable = true)\n |    |    |-- Fighting: long (nullable = true)\n |    |    |-- First-Person: long (nullable = true)\n |    |    |-- Fishing: long (nullable = true)\n |    |    |-- Flight: long (nullable = true)\n |    |    |-- Football: long (nullable = true)\n |    |    |-- Foreign: long (nullable = true)\n |    |    |-- Free to Play: long (nullable = true)\n |    |    |-- Funny: long (nullable = true)\n |    |    |-- Futuristic: long (nullable = true)\n |    |    |-- Gambling: long (nullable = true)\n |    |    |-- Game Development: long (nullable = true)\n |    |    |-- GameMaker: long (nullable = true)\n |    |    |-- Games Workshop: long (nullable = true)\n |    |    |-- Gaming: long (nullable = true)\n |    |    |-- God Game: long (nullable = true)\n |    |    |-- Golf: long (nullable = true)\n |    |    |-- Gore: long (nullable = true)\n |    |    |-- Gothic: long (nullable = true)\n |    |    |-- Grand Strategy: long (nullable = true)\n |    |    |-- Great Soundtrack: long (nullable = true)\n |    |    |-- Grid-Based Movement: long (nullable = true)\n |    |    |-- Gun Customization: long (nullable = true)\n |    |    |-- Hack and Slash: long (nullable = true)\n |    |    |-- Hacking: long (nullable = true)\n |    |    |-- Hand-drawn: long (nullable = true)\n |    |    |-- Hardware: long (nullable = true)\n |    |    |-- Heist: long (nullable = true)\n |    |    |-- Hentai: long (nullable = true)\n |    |    |-- Hero Shooter: long (nullable = true)\n |    |    |-- Hex Grid: long (nullable = true)\n |    |    |-- Hidden Object: long (nullable = true)\n |    |    |-- Historical: long (nullable = true)\n |    |    |-- Hockey: long (nullable = true)\n |    |    |-- Horror: long (nullable = true)\n |    |    |-- Horses: long (nullable = true)\n |    |    |-- Hunting: long (nullable = true)\n |    |    |-- Idler: long (nullable = true)\n |    |    |-- Illuminati: long (nullable = true)\n |    |    |-- Immersive: long (nullable = true)\n |    |    |-- Immersive Sim: long (nullable = true)\n |    |    |-- Indie: long (nullable = true)\n |    |    |-- Instrumental Music: long (nullable = true)\n |    |    |-- Intentionally Awkward Controls: long (nullable = true)\n |    |    |-- Interactive Fiction: long (nullable = true)\n |    |    |-- Inventory Management: long (nullable = true)\n |    |    |-- Investigation: long (nullable = true)\n |    |    |-- Isometric: long (nullable = true)\n |    |    |-- JRPG: long (nullable = true)\n |    |    |-- Jet: long (nullable = true)\n |    |    |-- Job Simulator: long (nullable = true)\n |    |    |-- Jump Scare: long (nullable = true)\n |    |    |-- Kickstarter: long (nullable = true)\n |    |    |-- LEGO: long (nullable = true)\n |    |    |-- LGBTQ+: long (nullable = true)\n |    |    |-- Lemmings: long (nullable = true)\n |    |    |-- Level Editor: long (nullable = true)\n |    |    |-- Life Sim: long (nullable = true)\n |    |    |-- Linear: long (nullable = true)\n |    |    |-- Local Co-Op: long (nullable = true)\n |    |    |-- Local Multiplayer: long (nullable = true)\n |    |    |-- Logic: long (nullable = true)\n |    |    |-- Loot: long (nullable = true)\n |    |    |-- Looter Shooter: long (nullable = true)\n |    |    |-- Lore-Rich: long (nullable = true)\n |    |    |-- Lovecraftian: long (nullable = true)\n |    |    |-- MMORPG: long (nullable = true)\n |    |    |-- MOBA: long (nullable = true)\n |    |    |-- Magic: long (nullable = true)\n |    |    |-- Mahjong: long (nullable = true)\n |    |    |-- Management: long (nullable = true)\n |    |    |-- Mars: long (nullable = true)\n |    |    |-- Martial Arts: long (nullable = true)\n |    |    |-- Massively Multiplayer: long (nullable = true)\n |    |    |-- Masterpiece: long (nullable = true)\n |    |    |-- Match 3: long (nullable = true)\n |    |    |-- Mature: long (nullable = true)\n |    |    |-- Mechs: long (nullable = true)\n |    |    |-- Medical Sim: long (nullable = true)\n |    |    |-- Medieval: long (nullable = true)\n |    |    |-- Memes: long (nullable = true)\n |    |    |-- Metroidvania: long (nullable = true)\n |    |    |-- Military: long (nullable = true)\n |    |    |-- Mini Golf: long (nullable = true)\n |    |    |-- Minigames: long (nullable = true)\n |    |    |-- Minimalist: long (nullable = true)\n |    |    |-- Mining: long (nullable = true)\n |    |    |-- Mod: long (nullable = true)\n |    |    |-- Moddable: long (nullable = true)\n |    |    |-- Modern: long (nullable = true)\n |    |    |-- Motocross: long (nullable = true)\n |    |    |-- Motorbike: long (nullable = true)\n |    |    |-- Mouse only: long (nullable = true)\n |    |    |-- Movie: long (nullable = true)\n |    |    |-- Multiplayer: long (nullable = true)\n |    |    |-- Multiple Endings: long (nullable = true)\n |    |    |-- Music: long (nullable = true)\n |    |    |-- Music-Based Procedural Generation: long (nullable = true)\n |    |    |-- Musou: long (nullable = true)\n |    |    |-- Mystery: long (nullable = true)\n |    |    |-- Mystery Dungeon: long (nullable = true)\n |    |    |-- Mythology: long (nullable = true)\n |    |    |-- NSFW: long (nullable = true)\n |    |    |-- Narration: long (nullable = true)\n |    |    |-- Narrative: long (nullable = true)\n |    |    |-- Nature: long (nullable = true)\n |    |    |-- Naval: long (nullable = true)\n |    |    |-- Naval Combat: long (nullable = true)\n |    |    |-- Ninja: long (nullable = true)\n |    |    |-- Noir: long (nullable = true)\n |    |    |-- Nonlinear: long (nullable = true)\n |    |    |-- Nostalgia: long (nullable = true)\n |    |    |-- Nudity: long (nullable = true)\n |    |    |-- Offroad: long (nullable = true)\n |    |    |-- Old School: long (nullable = true)\n |    |    |-- On-Rails Shooter: long (nullable = true)\n |    |    |-- Online Co-Op: long (nullable = true)\n |    |    |-- Open World: long (nullable = true)\n |    |    |-- Open World Survival Craft: long (nullable = true)\n |    |    |-- Otome: long (nullable = true)\n |    |    |-- Outbreak Sim: long (nullable = true)\n |    |    |-- Parkour: long (nullable = true)\n |    |    |-- Parody : long (nullable = true)\n |    |    |-- Party: long (nullable = true)\n |    |    |-- Party Game: long (nullable = true)\n |    |    |-- Party-Based RPG: long (nullable = true)\n |    |    |-- Perma Death: long (nullable = true)\n |    |    |-- Philosophical: long (nullable = true)\n |    |    |-- Photo Editing: long (nullable = true)\n |    |    |-- Physics: long (nullable = true)\n |    |    |-- Pinball: long (nullable = true)\n |    |    |-- Pirates: long (nullable = true)\n |    |    |-- Pixel Graphics: long (nullable = true)\n |    |    |-- Platformer: long (nullable = true)\n |    |    |-- Point & Click: long (nullable = true)\n |    |    |-- Political: long (nullable = true)\n |    |    |-- Political Sim: long (nullable = true)\n |    |    |-- Politics: long (nullable = true)\n |    |    |-- Pool: long (nullable = true)\n |    |    |-- Post-apocalyptic: long (nullable = true)\n |    |    |-- Precision Platformer: long (nullable = true)\n |    |    |-- Procedural Generation: long (nullable = true)\n |    |    |-- Programming: long (nullable = true)\n |    |    |-- Psychedelic: long (nullable = true)\n |    |    |-- Psychological: long (nullable = true)\n |    |    |-- Psychological Horror: long (nullable = true)\n |    |    |-- Puzzle: long (nullable = true)\n |    |    |-- Puzzle-Platformer: long (nullable = true)\n |    |    |-- PvE: long (nullable = true)\n |    |    |-- PvP: long (nullable = true)\n |    |    |-- Quick-Time Events: long (nullable = true)\n |    |    |-- RPG: long (nullable = true)\n |    |    |-- RPGMaker: long (nullable = true)\n |    |    |-- RTS: long (nullable = true)\n |    |    |-- Racing: long (nullable = true)\n |    |    |-- Real Time Tactics: long (nullable = true)\n |    |    |-- Real-Time: long (nullable = true)\n |    |    |-- Real-Time with Pause: long (nullable = true)\n |    |    |-- Realistic: long (nullable = true)\n |    |    |-- Reboot: long (nullable = true)\n |    |    |-- Relaxing: long (nullable = true)\n |    |    |-- Remake: long (nullable = true)\n |    |    |-- Replay Value: long (nullable = true)\n |    |    |-- Resource Management: long (nullable = true)\n |    |    |-- Retro: long (nullable = true)\n |    |    |-- Rhythm: long (nullable = true)\n |    |    |-- Robots: long (nullable = true)\n |    |    |-- Rock Music: long (nullable = true)\n |    |    |-- Rogue-like: long (nullable = true)\n |    |    |-- Rogue-lite: long (nullable = true)\n |    |    |-- Roguelike Deckbuilder: long (nullable = true)\n |    |    |-- Roguevania: long (nullable = true)\n |    |    |-- Romance: long (nullable = true)\n |    |    |-- Rome: long (nullable = true)\n |    |    |-- Rugby: long (nullable = true)\n |    |    |-- Runner: long (nullable = true)\n |    |    |-- Sailing: long (nullable = true)\n |    |    |-- Sandbox: long (nullable = true)\n |    |    |-- Satire: long (nullable = true)\n |    |    |-- Sci-fi: long (nullable = true)\n |    |    |-- Science: long (nullable = true)\n |    |    |-- Score Attack: long (nullable = true)\n |    |    |-- Sequel: long (nullable = true)\n |    |    |-- Sexual Content: long (nullable = true)\n |    |    |-- Shoot 'Em Up: long (nullable = true)\n |    |    |-- Shooter: long (nullable = true)\n |    |    |-- Shop Keeper: long (nullable = true)\n |    |    |-- Short: long (nullable = true)\n |    |    |-- Side Scroller: long (nullable = true)\n |    |    |-- Silent Protagonist: long (nullable = true)\n |    |    |-- Simulation: long (nullable = true)\n |    |    |-- Singleplayer: long (nullable = true)\n |    |    |-- Skateboarding: long (nullable = true)\n |    |    |-- Skating: long (nullable = true)\n |    |    |-- Skiing: long (nullable = true)\n |    |    |-- Sniper: long (nullable = true)\n |    |    |-- Snooker: long (nullable = true)\n |    |    |-- Snow: long (nullable = true)\n |    |    |-- Snowboarding: long (nullable = true)\n |    |    |-- Soccer: long (nullable = true)\n |    |    |-- Social Deduction: long (nullable = true)\n |    |    |-- Software: long (nullable = true)\n |    |    |-- Software Training: long (nullable = true)\n |    |    |-- Sokoban: long (nullable = true)\n |    |    |-- Solitaire: long (nullable = true)\n |    |    |-- Souls-like: long (nullable = true)\n |    |    |-- Soundtrack: long (nullable = true)\n |    |    |-- Space: long (nullable = true)\n |    |    |-- Space Sim: long (nullable = true)\n |    |    |-- Spaceships: long (nullable = true)\n |    |    |-- Spectacle fighter: long (nullable = true)\n |    |    |-- Spelling: long (nullable = true)\n |    |    |-- Split Screen: long (nullable = true)\n |    |    |-- Sports: long (nullable = true)\n |    |    |-- Stealth: long (nullable = true)\n |    |    |-- Steam Machine: long (nullable = true)\n |    |    |-- Steampunk: long (nullable = true)\n |    |    |-- Story Rich: long (nullable = true)\n |    |    |-- Strategy: long (nullable = true)\n |    |    |-- Strategy RPG: long (nullable = true)\n |    |    |-- Stylized: long (nullable = true)\n |    |    |-- Submarine: long (nullable = true)\n |    |    |-- Superhero: long (nullable = true)\n |    |    |-- Supernatural: long (nullable = true)\n |    |    |-- Surreal: long (nullable = true)\n |    |    |-- Survival: long (nullable = true)\n |    |    |-- Survival Horror: long (nullable = true)\n |    |    |-- Swordplay: long (nullable = true)\n |    |    |-- Tabletop: long (nullable = true)\n |    |    |-- Tactical: long (nullable = true)\n |    |    |-- Tactical RPG: long (nullable = true)\n |    |    |-- Tanks: long (nullable = true)\n |    |    |-- Team-Based: long (nullable = true)\n |    |    |-- Tennis: long (nullable = true)\n |    |    |-- Text-Based: long (nullable = true)\n |    |    |-- Third Person: long (nullable = true)\n |    |    |-- Third-Person Shooter: long (nullable = true)\n |    |    |-- Thriller: long (nullable = true)\n |    |    |-- Tile-Matching: long (nullable = true)\n |    |    |-- Time Attack: long (nullable = true)\n |    |    |-- Time Management: long (nullable = true)\n |    |    |-- Time Manipulation: long (nullable = true)\n |    |    |-- Time Travel: long (nullable = true)\n |    |    |-- Top-Down: long (nullable = true)\n |    |    |-- Top-Down Shooter: long (nullable = true)\n |    |    |-- Touch-Friendly: long (nullable = true)\n |    |    |-- Tower Defense: long (nullable = true)\n |    |    |-- TrackIR: long (nullable = true)\n |    |    |-- Trading: long (nullable = true)\n |    |    |-- Trading Card Game: long (nullable = true)\n |    |    |-- Traditional Roguelike: long (nullable = true)\n |    |    |-- Trains: long (nullable = true)\n |    |    |-- Transhumanism: long (nullable = true)\n |    |    |-- Transportation: long (nullable = true)\n |    |    |-- Trivia: long (nullable = true)\n |    |    |-- Turn-Based: long (nullable = true)\n |    |    |-- Turn-Based Combat: long (nullable = true)\n |    |    |-- Turn-Based Strategy: long (nullable = true)\n |    |    |-- Turn-Based Tactics: long (nullable = true)\n |    |    |-- Tutorial: long (nullable = true)\n |    |    |-- Twin Stick Shooter: long (nullable = true)\n |    |    |-- Typing: long (nullable = true)\n |    |    |-- Underground: long (nullable = true)\n |    |    |-- Underwater: long (nullable = true)\n |    |    |-- Unforgiving: long (nullable = true)\n |    |    |-- Utilities: long (nullable = true)\n |    |    |-- VR: long (nullable = true)\n |    |    |-- VR Only: long (nullable = true)\n |    |    |-- Vampire: long (nullable = true)\n |    |    |-- Vehicular Combat: long (nullable = true)\n |    |    |-- Video Production: long (nullable = true)\n |    |    |-- Vikings: long (nullable = true)\n |    |    |-- Villain Protagonist: long (nullable = true)\n |    |    |-- Violent: long (nullable = true)\n |    |    |-- Visual Novel: long (nullable = true)\n |    |    |-- Voice Control: long (nullable = true)\n |    |    |-- Volleyball: long (nullable = true)\n |    |    |-- Voxel: long (nullable = true)\n |    |    |-- Walking Simulator: long (nullable = true)\n |    |    |-- War: long (nullable = true)\n |    |    |-- Wargame: long (nullable = true)\n |    |    |-- Warhammer 40K: long (nullable = true)\n |    |    |-- Web Publishing: long (nullable = true)\n |    |    |-- Well-Written: long (nullable = true)\n |    |    |-- Werewolves: long (nullable = true)\n |    |    |-- Western: long (nullable = true)\n |    |    |-- Wholesome: long (nullable = true)\n |    |    |-- Word Game: long (nullable = true)\n |    |    |-- World War I: long (nullable = true)\n |    |    |-- World War II: long (nullable = true)\n |    |    |-- Wrestling: long (nullable = true)\n |    |    |-- Zombies: long (nullable = true)\n |    |    |-- e-sports: long (nullable = true)\n |    |-- type: string (nullable = true)\n |    |-- website: string (nullable = true)\n |-- id: string (nullable = true)\n\n"
     ]
    }
   ],
   "source": [
    "df.printSchema()"
   ]
  },
  {
   "cell_type": "code",
   "execution_count": 0,
   "metadata": {
    "application/vnd.databricks.v1+cell": {
     "cellMetadata": {
      "byteLimit": 2048000,
      "rowLimit": 10000
     },
     "inputWidgets": {},
     "nuid": "59de5bc7-1f1d-4b3c-92de-9728ca4052c7",
     "showTitle": false,
     "title": ""
    }
   },
   "outputs": [
    {
     "output_type": "stream",
     "name": "stdout",
     "output_type": "stream",
     "text": [
      "+--------------------+-------+\n|                data|     id|\n+--------------------+-------+\n|{10, [Multi-playe...|     10|\n|{1000000, [Single...|1000000|\n|{1000010, [Single...|1000010|\n|{1000030, [Multi-...|1000030|\n|{1000040, [Single...|1000040|\n|{1000080, [Multi-...|1000080|\n|{1000100, [Single...|1000100|\n|{1000110, [Multi-...|1000110|\n|{1000130, [Single...|1000130|\n|{1000280, [Single...|1000280|\n|{1000310, [Multi-...|1000310|\n|{1000360, [Multi-...|1000360|\n|{1000370, [Single...|1000370|\n|{1000380, [Single...|1000380|\n|{1000410, [Single...|1000410|\n|{1000470, [Single...|1000470|\n|{1000480, [Single...|1000480|\n|{1000500, [Multi-...|1000500|\n|{1000510, [], 0, ...|1000510|\n|{1000540, [Multi-...|1000540|\n+--------------------+-------+\nonly showing top 20 rows\n\n"
     ]
    }
   ],
   "source": [
    "df.show()"
   ]
  },
  {
   "cell_type": "code",
   "execution_count": 0,
   "metadata": {
    "application/vnd.databricks.v1+cell": {
     "cellMetadata": {
      "byteLimit": 2048000,
      "rowLimit": 10000
     },
     "inputWidgets": {},
     "nuid": "6c00f3ad-ee3c-4dae-8a14-ef9f2bf7c719",
     "showTitle": false,
     "title": ""
    }
   },
   "outputs": [],
   "source": [
    "df = df.select(df.data)"
   ]
  },
  {
   "cell_type": "code",
   "execution_count": 0,
   "metadata": {
    "application/vnd.databricks.v1+cell": {
     "cellMetadata": {
      "byteLimit": 2048000,
      "rowLimit": 10000
     },
     "inputWidgets": {},
     "nuid": "4f5dd56f-40fa-4961-bea5-85573e491e7c",
     "showTitle": false,
     "title": ""
    }
   },
   "outputs": [],
   "source": [
    "df = df.select(df.data.dropFields('tags').alias('data'))"
   ]
  },
  {
   "cell_type": "code",
   "execution_count": 0,
   "metadata": {
    "application/vnd.databricks.v1+cell": {
     "cellMetadata": {
      "byteLimit": 2048000,
      "rowLimit": 10000
     },
     "inputWidgets": {},
     "nuid": "529ec33c-d73d-4dcd-863c-20b974bba5b1",
     "showTitle": false,
     "title": ""
    }
   },
   "outputs": [
    {
     "output_type": "stream",
     "name": "stdout",
     "output_type": "stream",
     "text": [
      "root\n |-- data: struct (nullable = true)\n |    |-- appid: long (nullable = true)\n |    |-- categories: array (nullable = true)\n |    |    |-- element: string (containsNull = true)\n |    |-- ccu: long (nullable = true)\n |    |-- developer: string (nullable = true)\n |    |-- discount: string (nullable = true)\n |    |-- genre: string (nullable = true)\n |    |-- header_image: string (nullable = true)\n |    |-- initialprice: string (nullable = true)\n |    |-- languages: string (nullable = true)\n |    |-- name: string (nullable = true)\n |    |-- negative: long (nullable = true)\n |    |-- owners: string (nullable = true)\n |    |-- platforms: struct (nullable = true)\n |    |    |-- linux: boolean (nullable = true)\n |    |    |-- mac: boolean (nullable = true)\n |    |    |-- windows: boolean (nullable = true)\n |    |-- positive: long (nullable = true)\n |    |-- price: string (nullable = true)\n |    |-- publisher: string (nullable = true)\n |    |-- release_date: string (nullable = true)\n |    |-- required_age: string (nullable = true)\n |    |-- short_description: string (nullable = true)\n |    |-- type: string (nullable = true)\n |    |-- website: string (nullable = true)\n\n"
     ]
    }
   ],
   "source": [
    "df.printSchema()"
   ]
  },
  {
   "cell_type": "code",
   "execution_count": 0,
   "metadata": {
    "application/vnd.databricks.v1+cell": {
     "cellMetadata": {
      "byteLimit": 2048000,
      "rowLimit": 10000
     },
     "inputWidgets": {},
     "nuid": "b77cdbb2-ab84-402b-8aca-0cbf1fc3f308",
     "showTitle": false,
     "title": ""
    }
   },
   "outputs": [
    {
     "output_type": "stream",
     "name": "stdout",
     "output_type": "stream",
     "text": [
      "The publisher with the most games is: Big Fish Games\nTop 15 publishers on steam are:\n"
     ]
    },
    {
     "output_type": "display_data",
     "data": {
      "text/html": [
       "<style scoped>\n",
       "  .table-result-container {\n",
       "    max-height: 300px;\n",
       "    overflow: auto;\n",
       "  }\n",
       "  table, th, td {\n",
       "    border: 1px solid black;\n",
       "    border-collapse: collapse;\n",
       "  }\n",
       "  th, td {\n",
       "    padding: 5px;\n",
       "  }\n",
       "  th {\n",
       "    text-align: left;\n",
       "  }\n",
       "</style><div class='table-result-container'><table class='table-result'><thead style='background-color: white'><tr><th>publisher</th><th>count</th></tr></thead><tbody><tr><td>Big Fish Games</td><td>422</td></tr><tr><td>8floor</td><td>202</td></tr><tr><td>SEGA</td><td>165</td></tr><tr><td>Strategy First</td><td>151</td></tr><tr><td>Square Enix</td><td>141</td></tr><tr><td>Choice of Games</td><td>140</td></tr><tr><td>Sekai Project</td><td>132</td></tr><tr><td>HH-Games</td><td>132</td></tr><tr><td>no publisher</td><td>132</td></tr><tr><td>Ubisoft</td><td>127</td></tr><tr><td>Laush Studio</td><td>126</td></tr><tr><td>THQ Nordic</td><td>125</td></tr><tr><td>Alawar Entertainment</td><td>107</td></tr><tr><td>Fulqrum Publishing</td><td>104</td></tr><tr><td>Plug In Digital</td><td>101</td></tr></tbody></table></div>"
      ]
     },
     "metadata": {
      "application/vnd.databricks.v1+output": {
       "addedWidgets": {},
       "aggData": [],
       "aggError": "",
       "aggOverflow": false,
       "aggSchema": [],
       "aggSeriesLimitReached": false,
       "aggType": "",
       "arguments": {},
       "columnCustomDisplayInfos": {},
       "data": [
        [
         "Big Fish Games",
         422
        ],
        [
         "8floor",
         202
        ],
        [
         "SEGA",
         165
        ],
        [
         "Strategy First",
         151
        ],
        [
         "Square Enix",
         141
        ],
        [
         "Choice of Games",
         140
        ],
        [
         "Sekai Project",
         132
        ],
        [
         "HH-Games",
         132
        ],
        [
         "no publisher",
         132
        ],
        [
         "Ubisoft",
         127
        ],
        [
         "Laush Studio",
         126
        ],
        [
         "THQ Nordic",
         125
        ],
        [
         "Alawar Entertainment",
         107
        ],
        [
         "Fulqrum Publishing",
         104
        ],
        [
         "Plug In Digital",
         101
        ]
       ],
       "datasetInfos": [],
       "dbfsResultPath": null,
       "isJsonSchema": true,
       "metadata": {},
       "overflow": false,
       "plotOptions": {
        "customPlotOptions": {},
        "displayType": "table",
        "pivotAggregation": null,
        "pivotColumns": null,
        "xColumns": null,
        "yColumns": null
       },
       "removedWidgets": [],
       "schema": [
        {
         "metadata": "{}",
         "name": "publisher",
         "type": "\"string\""
        },
        {
         "metadata": "{}",
         "name": "count",
         "type": "\"long\""
        }
       ],
       "type": "table"
      }
     },
     "output_type": "display_data"
    },
    {
     "output_type": "display_data",
     "data": {
      "text/plain": [
       "Databricks visualization. Run in Databricks to view."
      ]
     },
     "metadata": {
      "application/vnd.databricks.v1.subcommand+json": {
       "baseErrorDetails": null,
       "bindings": {},
       "collapsed": false,
       "command": "%python\n__backend_agg_display_orig = display\n__backend_agg_dfs = []\ndef __backend_agg_display_new(df):\n    __backend_agg_df_modules = [\"pandas.core.frame\", \"databricks.koalas.frame\", \"pyspark.sql.dataframe\", \"pyspark.pandas.frame\", \"pyspark.sql.connect.dataframe\"]\n    if (type(df).__module__ in __backend_agg_df_modules and type(df).__name__ == 'DataFrame') or isinstance(df, list):\n        __backend_agg_dfs.append(df)\n\ndisplay = __backend_agg_display_new\n\ndef __backend_agg_user_code_fn():\n    import base64\n    exec(base64.standard_b64decode(\"ZGZfcHVibGlzaGUgPSBkZi5zZWxlY3QoZGYuZGF0YS5nZXRGaWVsZCgicHVibGlzaGVyIikuYWxpYXMoInB1Ymxpc2hlciIpKQpwdWJsaXNoZXJfY291bnRzID0gZGZfcHVibGlzaGUuZ3JvdXBCeSgicHVibGlzaGVyIikuY291bnQoKQpwdWJsaXNoZXJfd2l0aF9tb3N0X2dhbWVzID0gcHVibGlzaGVyX2NvdW50cy5zb3J0KEYuZGVzYygiY291bnQiKSkuZmlyc3QoKQogCnByaW50KGYiVGhlIHB1Ymxpc2hlciB3aXRoIHRoZSBtb3N0IGdhbWVzIGlzOiB7cHVibGlzaGVyX3dpdGhfbW9zdF9nYW1lc1sncHVibGlzaGVyJ119IikKIAp0b3BfMTVfcHVibGlzaGVycyA9IHB1Ymxpc2hlcl9jb3VudHMuc29ydChGLmRlc2MoImNvdW50IikpLmxpbWl0KDE1KQpwcmludCgiVG9wIDE1IHB1Ymxpc2hlcnMgb24gc3RlYW0gYXJlOiIpCnRvcF8xNV9wdWJsaXNoZXJzID0gdG9wXzE1X3B1Ymxpc2hlcnMud2l0aENvbHVtbigncHVibGlzaGVyJywgCiAgICAgICAgICAgICAgICAgICBGLndoZW4oRi5sZW5ndGgoRi50cmltKEYuY29sKCdwdWJsaXNoZXInKSkpID09IDAsICdubyBwdWJsaXNoZXInKQogICAgICAgICAgICAgICAgICAgIC5vdGhlcndpc2UoRi5jb2woJ3B1Ymxpc2hlcicpKSkKZGlzcGxheSh0b3BfMTVfcHVibGlzaGVycyk=\").decode())\n\ntry:\n    # run user code\n    __backend_agg_user_code_fn()\n\n    #reset display function\n    display = __backend_agg_display_orig\n\n    if len(__backend_agg_dfs) > 0:\n        # create a temp view\n        if type(__backend_agg_dfs[0]).__module__ == \"databricks.koalas.frame\":\n            # koalas dataframe\n            __backend_agg_dfs[0].to_spark().createOrReplaceTempView(\"DatabricksView2877d41\")\n        elif type(__backend_agg_dfs[0]).__module__ == \"pandas.core.frame\" or isinstance(__backend_agg_dfs[0], list):\n            # pandas dataframe\n            spark.createDataFrame(__backend_agg_dfs[0]).createOrReplaceTempView(\"DatabricksView2877d41\")\n        else:\n            __backend_agg_dfs[0].createOrReplaceTempView(\"DatabricksView2877d41\")\n        #run backend agg\n        display(spark.sql(\"\"\"WITH q AS (select * from DatabricksView2877d41) SELECT `publisher`,SUM(`count`) `column_7ce92e722` FROM q GROUP BY `publisher`\"\"\"))\n    else:\n        displayHTML(\"dataframe no longer exists. If you're using dataframe.display(), use display(dataframe) instead.\")\n\n\nfinally:\n    spark.sql(\"drop view if exists DatabricksView2877d41\")\n    display = __backend_agg_display_orig\n    del __backend_agg_display_new\n    del __backend_agg_display_orig\n    del __backend_agg_dfs\n    del __backend_agg_user_code_fn\n\n",
       "commandTitle": "Visualization 1",
       "commandType": "auto",
       "commandVersion": 0,
       "commentThread": [],
       "commentsVisible": false,
       "contentSha256Hex": null,
       "customPlotOptions": {
        "redashChart": [
         {
          "key": "type",
          "value": "CHART"
         },
         {
          "key": "options",
          "value": {
           "alignYAxesAtZero": true,
           "coefficient": 1,
           "columnConfigurationMap": {
            "x": {
             "column": "publisher",
             "id": "column_7ce92e721"
            },
            "y": [
             {
              "column": "count",
              "id": "column_7ce92e722",
              "transform": "SUM"
             }
            ]
           },
           "dateTimeFormat": "DD/MM/YYYY HH:mm",
           "direction": {
            "type": "counterclockwise"
           },
           "error_y": {
            "type": "data",
            "visible": true
           },
           "globalSeriesType": "column",
           "isAggregationOn": true,
           "legend": {
            "traceorder": "normal"
           },
           "missingValuesAsZero": true,
           "numberFormat": "0,0.[00000]",
           "percentFormat": "0[.]00%",
           "series": {
            "error_y": {
             "type": "data",
             "visible": true
            },
            "stacking": null
           },
           "seriesOptions": {
            "column_7ce92e722": {
             "name": "count",
             "yAxis": 0
            }
           },
           "showDataLabels": true,
           "sizemode": "diameter",
           "sortX": false,
           "sortY": true,
           "swappedAxes": true,
           "textFormat": "",
           "useAggregationsUi": true,
           "valuesOptions": {},
           "version": 2,
           "xAxis": {
            "labels": {
             "enabled": true
            },
            "type": "-"
           },
           "yAxis": [
            {
             "type": "-"
            },
            {
             "opposite": true,
             "type": "-"
            }
           ]
          }
         }
        ]
       },
       "datasetPreviewNameToCmdIdMap": {},
       "diffDeletes": [],
       "diffInserts": [],
       "displayType": "redashChart",
       "error": null,
       "errorDetails": null,
       "errorSummary": null,
       "errorTraceType": null,
       "finishTime": 0,
       "globalVars": {},
       "guid": "",
       "height": "auto",
       "hideCommandCode": false,
       "hideCommandResult": false,
       "iPythonMetadata": null,
       "inputWidgets": {},
       "isLockedInExamMode": false,
       "latestUser": "a user",
       "latestUserId": null,
       "listResultMetadata": null,
       "metadata": {},
       "nuid": "b5b62056-7402-499f-8e10-96e7fb86a16d",
       "origId": 0,
       "parentHierarchy": [],
       "pivotAggregation": null,
       "pivotColumns": null,
       "position": 10.0,
       "resultDbfsErrorMessage": null,
       "resultDbfsStatus": "INLINED_IN_TREE",
       "results": null,
       "showCommandTitle": false,
       "startTime": 0,
       "state": "input",
       "streamStates": {},
       "subcommandOptions": {
        "queryPlan": {
         "groups": [
          {
           "column": "publisher",
           "type": "column"
          }
         ],
         "selects": [
          {
           "column": "publisher",
           "type": "column"
          },
          {
           "alias": "column_7ce92e722",
           "args": [
            {
             "column": "count",
             "type": "column"
            }
           ],
           "function": "SUM",
           "type": "function"
          }
         ]
        }
       },
       "submitTime": 0,
       "subtype": "tableResultSubCmd.visualization",
       "tableResultIndex": 0,
       "useConsistentColors": false,
       "version": "CommandV1",
       "width": "auto",
       "workflows": [],
       "xColumns": null,
       "yColumns": null
      }
     },
     "output_type": "display_data"
    }
   ],
   "source": [
    "df_publishe = df.select(df.data.getField(\"publisher\").alias(\"publisher\"))\n",
    "publisher_counts = df_publishe.groupBy(\"publisher\").count()\n",
    "publisher_with_most_games = publisher_counts.sort(F.desc(\"count\")).first()\n",
    " \n",
    "print(f\"The publisher with the most games is: {publisher_with_most_games['publisher']}\")\n",
    " \n",
    "top_15_publishers = publisher_counts.sort(F.desc(\"count\")).limit(15)\n",
    "print(\"Top 15 publishers on steam are:\")\n",
    "top_15_publishers = top_15_publishers.withColumn('publisher', \n",
    "                   F.when(F.length(F.trim(F.col('publisher'))) == 0, 'no publisher')\n",
    "                    .otherwise(F.col('publisher')))\n",
    "display(top_15_publishers)"
   ]
  },
  {
   "cell_type": "code",
   "execution_count": 0,
   "metadata": {
    "application/vnd.databricks.v1+cell": {
     "cellMetadata": {
      "byteLimit": 2048000,
      "rowLimit": 10000
     },
     "inputWidgets": {},
     "nuid": "498affce-a226-4ca5-8b69-008d3400e38a",
     "showTitle": false,
     "title": ""
    }
   },
   "outputs": [
    {
     "output_type": "display_data",
     "data": {
      "text/html": [
       "<style scoped>\n",
       "  .table-result-container {\n",
       "    max-height: 300px;\n",
       "    overflow: auto;\n",
       "  }\n",
       "  table, th, td {\n",
       "    border: 1px solid black;\n",
       "    border-collapse: collapse;\n",
       "  }\n",
       "  th, td {\n",
       "    padding: 5px;\n",
       "  }\n",
       "  th {\n",
       "    text-align: left;\n",
       "  }\n",
       "</style><div class='table-result-container'><table class='table-result'><thead style='background-color: white'><tr><th>release_year</th><th>count</th></tr></thead><tbody><tr><td>2003</td><td>3</td></tr><tr><td>2007</td><td>98</td></tr><tr><td>2018</td><td>7663</td></tr><tr><td>2015</td><td>2566</td></tr><tr><td>2006</td><td>61</td></tr><tr><td>2022</td><td>7451</td></tr><tr><td>2013</td><td>469</td></tr><tr><td>null</td><td>222</td></tr><tr><td>1997</td><td>2</td></tr><tr><td>2014</td><td>1550</td></tr><tr><td>2019</td><td>6949</td></tr><tr><td>2004</td><td>6</td></tr><tr><td>1998</td><td>1</td></tr><tr><td>2020</td><td>8287</td></tr><tr><td>2012</td><td>344</td></tr><tr><td>2009</td><td>309</td></tr><tr><td>2016</td><td>4176</td></tr><tr><td>2001</td><td>4</td></tr><tr><td>2005</td><td>6</td></tr><tr><td>2000</td><td>2</td></tr><tr><td>2010</td><td>281</td></tr><tr><td>2011</td><td>267</td></tr><tr><td>2008</td><td>159</td></tr><tr><td>2017</td><td>6006</td></tr><tr><td>1999</td><td>3</td></tr><tr><td>2002</td><td>1</td></tr><tr><td>2021</td><td>8805</td></tr></tbody></table></div>"
      ]
     },
     "metadata": {
      "application/vnd.databricks.v1+output": {
       "addedWidgets": {},
       "aggData": [],
       "aggError": "",
       "aggOverflow": false,
       "aggSchema": [],
       "aggSeriesLimitReached": false,
       "aggType": "",
       "arguments": {},
       "columnCustomDisplayInfos": {},
       "data": [
        [
         2003,
         3
        ],
        [
         2007,
         98
        ],
        [
         2018,
         7663
        ],
        [
         2015,
         2566
        ],
        [
         2006,
         61
        ],
        [
         2022,
         7451
        ],
        [
         2013,
         469
        ],
        [
         null,
         222
        ],
        [
         1997,
         2
        ],
        [
         2014,
         1550
        ],
        [
         2019,
         6949
        ],
        [
         2004,
         6
        ],
        [
         1998,
         1
        ],
        [
         2020,
         8287
        ],
        [
         2012,
         344
        ],
        [
         2009,
         309
        ],
        [
         2016,
         4176
        ],
        [
         2001,
         4
        ],
        [
         2005,
         6
        ],
        [
         2000,
         2
        ],
        [
         2010,
         281
        ],
        [
         2011,
         267
        ],
        [
         2008,
         159
        ],
        [
         2017,
         6006
        ],
        [
         1999,
         3
        ],
        [
         2002,
         1
        ],
        [
         2021,
         8805
        ]
       ],
       "datasetInfos": [],
       "dbfsResultPath": null,
       "isJsonSchema": true,
       "metadata": {},
       "overflow": false,
       "plotOptions": {
        "customPlotOptions": {},
        "displayType": "table",
        "pivotAggregation": null,
        "pivotColumns": null,
        "xColumns": null,
        "yColumns": null
       },
       "removedWidgets": [],
       "schema": [
        {
         "metadata": "{}",
         "name": "release_year",
         "type": "\"integer\""
        },
        {
         "metadata": "{}",
         "name": "count",
         "type": "\"long\""
        }
       ],
       "type": "table"
      }
     },
     "output_type": "display_data"
    },
    {
     "output_type": "display_data",
     "data": {
      "text/plain": [
       "Databricks visualization. Run in Databricks to view."
      ]
     },
     "metadata": {
      "application/vnd.databricks.v1.subcommand+json": {
       "baseErrorDetails": null,
       "bindings": {},
       "collapsed": false,
       "command": "%python\n__backend_agg_display_orig = display\n__backend_agg_dfs = []\ndef __backend_agg_display_new(df):\n    __backend_agg_df_modules = [\"pandas.core.frame\", \"databricks.koalas.frame\", \"pyspark.sql.dataframe\", \"pyspark.pandas.frame\", \"pyspark.sql.connect.dataframe\"]\n    if (type(df).__module__ in __backend_agg_df_modules and type(df).__name__ == 'DataFrame') or isinstance(df, list):\n        __backend_agg_dfs.append(df)\n\ndisplay = __backend_agg_display_new\n\ndef __backend_agg_user_code_fn():\n    import base64\n    exec(base64.standard_b64decode(\"cmVsZWFzZV95ZWFyID0gZGYuc2VsZWN0KEYueWVhcihGLnRvX2RhdGUoZGZbImRhdGEucmVsZWFzZV9kYXRlIl0sIGZvcm1hdD0ieXl5eS9NTS9kIikpLmFsaWFzKCJyZWxlYXNlX3llYXIiKSkKZ2FtZXNfcGVyX3llYXIgPSByZWxlYXNlX3llYXIuZ3JvdXBCeSgicmVsZWFzZV95ZWFyIikuY291bnQoKQpnYW1lc19wZXJfeWVhcl9zb3J0ZWQgPSBnYW1lc19wZXJfeWVhci5zb3J0KEYuZGVzYygicmVsZWFzZV95ZWFyIikpLmxpbWl0KDEwKQpkaXNwbGF5KGdhbWVzX3Blcl95ZWFyKQ==\").decode())\n\ntry:\n    # run user code\n    __backend_agg_user_code_fn()\n\n    #reset display function\n    display = __backend_agg_display_orig\n\n    if len(__backend_agg_dfs) > 0:\n        # create a temp view\n        if type(__backend_agg_dfs[0]).__module__ == \"databricks.koalas.frame\":\n            # koalas dataframe\n            __backend_agg_dfs[0].to_spark().createOrReplaceTempView(\"DatabricksView1c8e3fa\")\n        elif type(__backend_agg_dfs[0]).__module__ == \"pandas.core.frame\" or isinstance(__backend_agg_dfs[0], list):\n            # pandas dataframe\n            spark.createDataFrame(__backend_agg_dfs[0]).createOrReplaceTempView(\"DatabricksView1c8e3fa\")\n        else:\n            __backend_agg_dfs[0].createOrReplaceTempView(\"DatabricksView1c8e3fa\")\n        #run backend agg\n        display(spark.sql(\"\"\"WITH q AS (select * from DatabricksView1c8e3fa) SELECT `release_year`,SUM(`count`) `column_7ce92e729` FROM q GROUP BY `release_year`\"\"\"))\n    else:\n        displayHTML(\"dataframe no longer exists. If you're using dataframe.display(), use display(dataframe) instead.\")\n\n\nfinally:\n    spark.sql(\"drop view if exists DatabricksView1c8e3fa\")\n    display = __backend_agg_display_orig\n    del __backend_agg_display_new\n    del __backend_agg_display_orig\n    del __backend_agg_dfs\n    del __backend_agg_user_code_fn\n\n",
       "commandTitle": "Visualization 1",
       "commandType": "auto",
       "commandVersion": 0,
       "commentThread": [],
       "commentsVisible": false,
       "contentSha256Hex": null,
       "customPlotOptions": {
        "redashChart": [
         {
          "key": "type",
          "value": "CHART"
         },
         {
          "key": "options",
          "value": {
           "alignYAxesAtZero": true,
           "coefficient": 1,
           "columnConfigurationMap": {
            "x": {
             "column": "release_year",
             "id": "column_7ce92e728"
            },
            "y": [
             {
              "column": "count",
              "id": "column_7ce92e729",
              "transform": "SUM"
             }
            ]
           },
           "dateTimeFormat": "DD/MM/YYYY HH:mm",
           "direction": {
            "type": "counterclockwise"
           },
           "error_y": {
            "type": "data",
            "visible": true
           },
           "globalSeriesType": "column",
           "isAggregationOn": true,
           "legend": {
            "traceorder": "normal"
           },
           "missingValuesAsZero": true,
           "numberFormat": "0,0.[00000]",
           "percentFormat": "0[.]00%",
           "series": {
            "error_y": {
             "type": "data",
             "visible": true
            },
            "stacking": null
           },
           "seriesOptions": {
            "column_7ce92e729": {
             "name": "count",
             "type": "column",
             "yAxis": 0
            }
           },
           "showDataLabels": true,
           "sizemode": "diameter",
           "sortX": true,
           "sortY": true,
           "swappedAxes": false,
           "textFormat": "",
           "useAggregationsUi": true,
           "valuesOptions": {},
           "version": 2,
           "xAxis": {
            "labels": {
             "enabled": true
            },
            "type": "-"
           },
           "yAxis": [
            {
             "type": "-"
            },
            {
             "opposite": true,
             "type": "-"
            }
           ]
          }
         }
        ]
       },
       "datasetPreviewNameToCmdIdMap": {},
       "diffDeletes": [],
       "diffInserts": [],
       "displayType": "redashChart",
       "error": null,
       "errorDetails": null,
       "errorSummary": null,
       "errorTraceType": null,
       "finishTime": 0,
       "globalVars": {},
       "guid": "",
       "height": "auto",
       "hideCommandCode": false,
       "hideCommandResult": false,
       "iPythonMetadata": null,
       "inputWidgets": {},
       "isLockedInExamMode": false,
       "latestUser": "a user",
       "latestUserId": null,
       "listResultMetadata": null,
       "metadata": {},
       "nuid": "797dc569-e749-4f81-8f0e-d3f7e6ff1085",
       "origId": 0,
       "parentHierarchy": [],
       "pivotAggregation": null,
       "pivotColumns": null,
       "position": 11.0,
       "resultDbfsErrorMessage": null,
       "resultDbfsStatus": "INLINED_IN_TREE",
       "results": null,
       "showCommandTitle": false,
       "startTime": 0,
       "state": "input",
       "streamStates": {},
       "subcommandOptions": {
        "queryPlan": {
         "groups": [
          {
           "column": "release_year",
           "type": "column"
          }
         ],
         "selects": [
          {
           "column": "release_year",
           "type": "column"
          },
          {
           "alias": "column_7ce92e729",
           "args": [
            {
             "column": "count",
             "type": "column"
            }
           ],
           "function": "SUM",
           "type": "function"
          }
         ]
        }
       },
       "submitTime": 0,
       "subtype": "tableResultSubCmd.visualization",
       "tableResultIndex": 0,
       "useConsistentColors": false,
       "version": "CommandV1",
       "width": "auto",
       "workflows": [],
       "xColumns": null,
       "yColumns": null
      }
     },
     "output_type": "display_data"
    }
   ],
   "source": [
    "release_year = df.select(F.year(F.to_date(df[\"data.release_date\"], format=\"yyyy/MM/d\")).alias(\"release_year\"))\n",
    "games_per_year = release_year.groupBy(\"release_year\").count()\n",
    "games_per_year_sorted = games_per_year.sort(F.desc(\"release_year\")).limit(10)\n",
    "display(games_per_year)"
   ]
  },
  {
   "cell_type": "code",
   "execution_count": 0,
   "metadata": {
    "application/vnd.databricks.v1+cell": {
     "cellMetadata": {
      "byteLimit": 2048000,
      "rowLimit": 10000
     },
     "inputWidgets": {},
     "nuid": "ecfa4ad8-54bc-416a-a3ca-95670ad9defb",
     "showTitle": false,
     "title": ""
    }
   },
   "outputs": [
    {
     "output_type": "display_data",
     "data": {
      "text/html": [
       "<style scoped>\n",
       "  .table-result-container {\n",
       "    max-height: 300px;\n",
       "    overflow: auto;\n",
       "  }\n",
       "  table, th, td {\n",
       "    border: 1px solid black;\n",
       "    border-collapse: collapse;\n",
       "  }\n",
       "  th, td {\n",
       "    padding: 5px;\n",
       "  }\n",
       "  th {\n",
       "    text-align: left;\n",
       "  }\n",
       "</style><div class='table-result-container'><table class='table-result'><thead style='background-color: white'><tr><th>video_game</th><th>positive_ratings</th></tr></thead><tbody><tr><td>Counter-Strike: Global Offensive</td><td>5943345</td></tr><tr><td>Dota 2</td><td>1534895</td></tr><tr><td>Grand Theft Auto V</td><td>1229265</td></tr><tr><td>PUBG: BATTLEGROUNDS</td><td>1185361</td></tr><tr><td>Terraria</td><td>1014711</td></tr><tr><td>Tom Clancy's Rainbow Six Siege</td><td>942910</td></tr><tr><td>Garry's Mod</td><td>861240</td></tr><tr><td>Team Fortress 2</td><td>846407</td></tr><tr><td>Rust</td><td>732513</td></tr><tr><td>Left 4 Dead 2</td><td>643836</td></tr><tr><td>The Witcher 3: Wild Hunt</td><td>632627</td></tr><tr><td>Among Us</td><td>586302</td></tr><tr><td>Euro Truck Simulator 2</td><td>572368</td></tr><tr><td>Wallpaper Engine</td><td>561096</td></tr><tr><td>PAYDAY 2</td><td>532013</td></tr></tbody></table></div>"
      ]
     },
     "metadata": {
      "application/vnd.databricks.v1+output": {
       "addedWidgets": {},
       "aggData": [],
       "aggError": "",
       "aggOverflow": false,
       "aggSchema": [],
       "aggSeriesLimitReached": false,
       "aggType": "",
       "arguments": {},
       "columnCustomDisplayInfos": {},
       "data": [
        [
         "Counter-Strike: Global Offensive",
         5943345
        ],
        [
         "Dota 2",
         1534895
        ],
        [
         "Grand Theft Auto V",
         1229265
        ],
        [
         "PUBG: BATTLEGROUNDS",
         1185361
        ],
        [
         "Terraria",
         1014711
        ],
        [
         "Tom Clancy's Rainbow Six Siege",
         942910
        ],
        [
         "Garry's Mod",
         861240
        ],
        [
         "Team Fortress 2",
         846407
        ],
        [
         "Rust",
         732513
        ],
        [
         "Left 4 Dead 2",
         643836
        ],
        [
         "The Witcher 3: Wild Hunt",
         632627
        ],
        [
         "Among Us",
         586302
        ],
        [
         "Euro Truck Simulator 2",
         572368
        ],
        [
         "Wallpaper Engine",
         561096
        ],
        [
         "PAYDAY 2",
         532013
        ]
       ],
       "datasetInfos": [],
       "dbfsResultPath": null,
       "isJsonSchema": true,
       "metadata": {},
       "overflow": false,
       "plotOptions": {
        "customPlotOptions": {},
        "displayType": "table",
        "pivotAggregation": null,
        "pivotColumns": null,
        "xColumns": null,
        "yColumns": null
       },
       "removedWidgets": [],
       "schema": [
        {
         "metadata": "{}",
         "name": "video_game",
         "type": "\"string\""
        },
        {
         "metadata": "{}",
         "name": "positive_ratings",
         "type": "\"long\""
        }
       ],
       "type": "table"
      }
     },
     "output_type": "display_data"
    },
    {
     "output_type": "display_data",
     "data": {
      "text/plain": [
       "Databricks visualization. Run in Databricks to view."
      ]
     },
     "metadata": {
      "application/vnd.databricks.v1.subcommand+json": {
       "baseErrorDetails": null,
       "bindings": {},
       "collapsed": false,
       "command": "%python\n__backend_agg_display_orig = display\n__backend_agg_dfs = []\ndef __backend_agg_display_new(df):\n    __backend_agg_df_modules = [\"pandas.core.frame\", \"databricks.koalas.frame\", \"pyspark.sql.dataframe\", \"pyspark.pandas.frame\", \"pyspark.sql.connect.dataframe\"]\n    if (type(df).__module__ in __backend_agg_df_modules and type(df).__name__ == 'DataFrame') or isinstance(df, list):\n        __backend_agg_dfs.append(df)\n\ndisplay = __backend_agg_display_new\n\ndef __backend_agg_user_code_fn():\n    import base64\n    exec(base64.standard_b64decode(\"YmVzdF9nYW1lcyA9IGRmLnNlbGVjdChkZlsiZGF0YS5uYW1lIl0uYWxpYXMoInZpZGVvX2dhbWUiKSxkZlsiZGF0YS5wb3NpdGl2ZSJdLmFsaWFzKCJwb3NpdGl2ZV9yYXRpbmdzIikpCnRvcF9yYXRlZF9nYW1lcyA9IGJlc3RfZ2FtZXMuc29ydChGLmRlc2MoInBvc2l0aXZlX3JhdGluZ3MiKSkubGltaXQoMTUpCmRpc3BsYXkodG9wX3JhdGVkX2dhbWVzKQ==\").decode())\n\ntry:\n    # run user code\n    __backend_agg_user_code_fn()\n\n    #reset display function\n    display = __backend_agg_display_orig\n\n    if len(__backend_agg_dfs) > 0:\n        # create a temp view\n        if type(__backend_agg_dfs[0]).__module__ == \"databricks.koalas.frame\":\n            # koalas dataframe\n            __backend_agg_dfs[0].to_spark().createOrReplaceTempView(\"DatabricksView19d06e3\")\n        elif type(__backend_agg_dfs[0]).__module__ == \"pandas.core.frame\" or isinstance(__backend_agg_dfs[0], list):\n            # pandas dataframe\n            spark.createDataFrame(__backend_agg_dfs[0]).createOrReplaceTempView(\"DatabricksView19d06e3\")\n        else:\n            __backend_agg_dfs[0].createOrReplaceTempView(\"DatabricksView19d06e3\")\n        #run backend agg\n        display(spark.sql(\"\"\"WITH q AS (select * from DatabricksView19d06e3) SELECT `video_game`,SUM(`positive_ratings`) `column_7ce92e7215` FROM q GROUP BY `video_game`\"\"\"))\n    else:\n        displayHTML(\"dataframe no longer exists. If you're using dataframe.display(), use display(dataframe) instead.\")\n\n\nfinally:\n    spark.sql(\"drop view if exists DatabricksView19d06e3\")\n    display = __backend_agg_display_orig\n    del __backend_agg_display_new\n    del __backend_agg_display_orig\n    del __backend_agg_dfs\n    del __backend_agg_user_code_fn\n\n",
       "commandTitle": "Visualization 1",
       "commandType": "auto",
       "commandVersion": 0,
       "commentThread": [],
       "commentsVisible": false,
       "contentSha256Hex": null,
       "customPlotOptions": {
        "redashChart": [
         {
          "key": "type",
          "value": "CHART"
         },
         {
          "key": "options",
          "value": {
           "alignYAxesAtZero": true,
           "coefficient": 1,
           "columnConfigurationMap": {
            "x": {
             "column": "video_game",
             "id": "column_7ce92e7214"
            },
            "y": [
             {
              "column": "positive_ratings",
              "id": "column_7ce92e7215",
              "transform": "SUM"
             }
            ]
           },
           "dateTimeFormat": "DD/MM/YYYY HH:mm",
           "direction": {
            "type": "counterclockwise"
           },
           "error_y": {
            "type": "data",
            "visible": true
           },
           "globalSeriesType": "pie",
           "isAggregationOn": true,
           "legend": {
            "traceorder": "normal"
           },
           "missingValuesAsZero": true,
           "numberFormat": "0,0.[00000]",
           "percentFormat": "0[.]00%",
           "series": {
            "error_y": {
             "type": "data",
             "visible": true
            },
            "stacking": ""
           },
           "seriesOptions": {
            "column_7ce92e7215": {
             "name": "positive_ratings",
             "type": "pie",
             "yAxis": 0
            }
           },
           "showDataLabels": true,
           "sizemode": "diameter",
           "sortX": false,
           "sortY": true,
           "swappedAxes": false,
           "textFormat": "",
           "useAggregationsUi": true,
           "valuesOptions": {},
           "version": 2,
           "xAxis": {
            "labels": {
             "enabled": true
            },
            "type": "-"
           },
           "yAxis": [
            {
             "type": "-"
            },
            {
             "opposite": true,
             "type": "-"
            }
           ]
          }
         }
        ]
       },
       "datasetPreviewNameToCmdIdMap": {},
       "diffDeletes": [],
       "diffInserts": [],
       "displayType": "redashChart",
       "error": null,
       "errorDetails": null,
       "errorSummary": null,
       "errorTraceType": null,
       "finishTime": 0,
       "globalVars": {},
       "guid": "",
       "height": "auto",
       "hideCommandCode": false,
       "hideCommandResult": false,
       "iPythonMetadata": null,
       "inputWidgets": {},
       "isLockedInExamMode": false,
       "latestUser": "a user",
       "latestUserId": null,
       "listResultMetadata": null,
       "metadata": {},
       "nuid": "6976fcec-e617-44a0-9fc3-874553586b40",
       "origId": 0,
       "parentHierarchy": [],
       "pivotAggregation": null,
       "pivotColumns": null,
       "position": 12.0,
       "resultDbfsErrorMessage": null,
       "resultDbfsStatus": "INLINED_IN_TREE",
       "results": null,
       "showCommandTitle": false,
       "startTime": 0,
       "state": "input",
       "streamStates": {},
       "subcommandOptions": {
        "queryPlan": {
         "groups": [
          {
           "column": "video_game",
           "type": "column"
          }
         ],
         "selects": [
          {
           "column": "video_game",
           "type": "column"
          },
          {
           "alias": "column_7ce92e7215",
           "args": [
            {
             "column": "positive_ratings",
             "type": "column"
            }
           ],
           "function": "SUM",
           "type": "function"
          }
         ]
        }
       },
       "submitTime": 0,
       "subtype": "tableResultSubCmd.visualization",
       "tableResultIndex": 0,
       "useConsistentColors": false,
       "version": "CommandV1",
       "width": "auto",
       "workflows": [],
       "xColumns": null,
       "yColumns": null
      }
     },
     "output_type": "display_data"
    }
   ],
   "source": [
    "best_games = df.select(df[\"data.name\"].alias(\"video_game\"),df[\"data.positive\"].alias(\"positive_ratings\"))\n",
    "top_rated_games = best_games.sort(F.desc(\"positive_ratings\")).limit(15)\n",
    "display(top_rated_games)"
   ]
  },
  {
   "cell_type": "code",
   "execution_count": 0,
   "metadata": {
    "application/vnd.databricks.v1+cell": {
     "cellMetadata": {
      "byteLimit": 2048000,
      "rowLimit": 10000
     },
     "inputWidgets": {},
     "nuid": "899ceaa3-2cfa-4f59-9acc-0968df23f371",
     "showTitle": false,
     "title": ""
    }
   },
   "outputs": [
    {
     "output_type": "display_data",
     "data": {
      "text/html": [
       "<style scoped>\n",
       "  .table-result-container {\n",
       "    max-height: 300px;\n",
       "    overflow: auto;\n",
       "  }\n",
       "  table, th, td {\n",
       "    border: 1px solid black;\n",
       "    border-collapse: collapse;\n",
       "  }\n",
       "  th, td {\n",
       "    padding: 5px;\n",
       "  }\n",
       "  th {\n",
       "    text-align: left;\n",
       "  }\n",
       "</style><div class='table-result-container'><table class='table-result'><thead style='background-color: white'><tr><th>release_year</th><th>count</th></tr></thead><tbody><tr><td>2022</td><td>7451</td></tr><tr><td>2021</td><td>8805</td></tr><tr><td>2020</td><td>8287</td></tr><tr><td>2019</td><td>6949</td></tr><tr><td>2018</td><td>7663</td></tr><tr><td>2017</td><td>6006</td></tr><tr><td>2016</td><td>4176</td></tr><tr><td>2015</td><td>2566</td></tr><tr><td>2014</td><td>1550</td></tr><tr><td>2013</td><td>469</td></tr><tr><td>2012</td><td>344</td></tr><tr><td>2011</td><td>267</td></tr><tr><td>2010</td><td>281</td></tr><tr><td>2009</td><td>309</td></tr><tr><td>2008</td><td>159</td></tr></tbody></table></div>"
      ]
     },
     "metadata": {
      "application/vnd.databricks.v1+output": {
       "addedWidgets": {},
       "aggData": [],
       "aggError": "",
       "aggOverflow": false,
       "aggSchema": [],
       "aggSeriesLimitReached": false,
       "aggType": "",
       "arguments": {},
       "columnCustomDisplayInfos": {},
       "data": [
        [
         2022,
         7451
        ],
        [
         2021,
         8805
        ],
        [
         2020,
         8287
        ],
        [
         2019,
         6949
        ],
        [
         2018,
         7663
        ],
        [
         2017,
         6006
        ],
        [
         2016,
         4176
        ],
        [
         2015,
         2566
        ],
        [
         2014,
         1550
        ],
        [
         2013,
         469
        ],
        [
         2012,
         344
        ],
        [
         2011,
         267
        ],
        [
         2010,
         281
        ],
        [
         2009,
         309
        ],
        [
         2008,
         159
        ]
       ],
       "datasetInfos": [],
       "dbfsResultPath": null,
       "isJsonSchema": true,
       "metadata": {},
       "overflow": false,
       "plotOptions": {
        "customPlotOptions": {},
        "displayType": "table",
        "pivotAggregation": null,
        "pivotColumns": null,
        "xColumns": null,
        "yColumns": null
       },
       "removedWidgets": [],
       "schema": [
        {
         "metadata": "{}",
         "name": "release_year",
         "type": "\"integer\""
        },
        {
         "metadata": "{}",
         "name": "count",
         "type": "\"long\""
        }
       ],
       "type": "table"
      }
     },
     "output_type": "display_data"
    },
    {
     "output_type": "display_data",
     "data": {
      "text/plain": [
       "Databricks visualization. Run in Databricks to view."
      ]
     },
     "metadata": {
      "application/vnd.databricks.v1.subcommand+json": {
       "baseErrorDetails": null,
       "bindings": {},
       "collapsed": false,
       "command": "%python\n__backend_agg_display_orig = display\n__backend_agg_dfs = []\ndef __backend_agg_display_new(df):\n    __backend_agg_df_modules = [\"pandas.core.frame\", \"databricks.koalas.frame\", \"pyspark.sql.dataframe\", \"pyspark.pandas.frame\", \"pyspark.sql.connect.dataframe\"]\n    if (type(df).__module__ in __backend_agg_df_modules and type(df).__name__ == 'DataFrame') or isinstance(df, list):\n        __backend_agg_dfs.append(df)\n\ndisplay = __backend_agg_display_new\n\ndef __backend_agg_user_code_fn():\n    import base64\n    exec(base64.standard_b64decode(\"cmVsZWFzZV95ZWFyID0gZGYuc2VsZWN0KEYueWVhcihGLnRvX2RhdGUoZGZbImRhdGEucmVsZWFzZV9kYXRlIl0sIGZvcm1hdD0ieXl5eS9NTS9kIikpLmFsaWFzKCJyZWxlYXNlX3llYXIiKSkKZ2FtZXNfcGVyX3llYXIgPSByZWxlYXNlX3llYXIuZ3JvdXBCeSgicmVsZWFzZV95ZWFyIikuY291bnQoKQpnYW1lc19wZXJfeWVhcl9zb3J0ZWQgPSBnYW1lc19wZXJfeWVhci5zb3J0KEYuZGVzYygicmVsZWFzZV95ZWFyIikpLmxpbWl0KDE1KQpkaXNwbGF5KGdhbWVzX3Blcl95ZWFyX3NvcnRlZCk=\").decode())\n\ntry:\n    # run user code\n    __backend_agg_user_code_fn()\n\n    #reset display function\n    display = __backend_agg_display_orig\n\n    if len(__backend_agg_dfs) > 0:\n        # create a temp view\n        if type(__backend_agg_dfs[0]).__module__ == \"databricks.koalas.frame\":\n            # koalas dataframe\n            __backend_agg_dfs[0].to_spark().createOrReplaceTempView(\"DatabricksViewb929401\")\n        elif type(__backend_agg_dfs[0]).__module__ == \"pandas.core.frame\" or isinstance(__backend_agg_dfs[0], list):\n            # pandas dataframe\n            spark.createDataFrame(__backend_agg_dfs[0]).createOrReplaceTempView(\"DatabricksViewb929401\")\n        else:\n            __backend_agg_dfs[0].createOrReplaceTempView(\"DatabricksViewb929401\")\n        #run backend agg\n        display(spark.sql(\"\"\"WITH q AS (select * from DatabricksViewb929401) SELECT `release_year`,SUM(`count`) `column_7ce92e7222` FROM q GROUP BY `release_year`\"\"\"))\n    else:\n        displayHTML(\"dataframe no longer exists. If you're using dataframe.display(), use display(dataframe) instead.\")\n\n\nfinally:\n    spark.sql(\"drop view if exists DatabricksViewb929401\")\n    display = __backend_agg_display_orig\n    del __backend_agg_display_new\n    del __backend_agg_display_orig\n    del __backend_agg_dfs\n    del __backend_agg_user_code_fn\n\n",
       "commandTitle": "Visualization 1",
       "commandType": "auto",
       "commandVersion": 0,
       "commentThread": [],
       "commentsVisible": false,
       "contentSha256Hex": null,
       "customPlotOptions": {
        "redashChart": [
         {
          "key": "type",
          "value": "CHART"
         },
         {
          "key": "options",
          "value": {
           "alignYAxesAtZero": true,
           "coefficient": 1,
           "columnConfigurationMap": {
            "x": {
             "column": "release_year",
             "id": "column_7ce92e7221"
            },
            "y": [
             {
              "column": "count",
              "id": "column_7ce92e7222",
              "transform": "SUM"
             }
            ]
           },
           "dateTimeFormat": "DD/MM/YYYY HH:mm",
           "direction": {
            "type": "counterclockwise"
           },
           "error_y": {
            "type": "data",
            "visible": true
           },
           "globalSeriesType": "line",
           "isAggregationOn": true,
           "legend": {
            "traceorder": "normal"
           },
           "missingValuesAsZero": true,
           "numberFormat": "0,0.[00000]",
           "percentFormat": "0[.]00%",
           "series": {
            "error_y": {
             "type": "data",
             "visible": true
            },
            "stacking": null
           },
           "seriesOptions": {
            "column_7ce92e7222": {
             "name": "count",
             "type": "line",
             "yAxis": 0
            }
           },
           "showDataLabels": false,
           "sizemode": "diameter",
           "sortX": true,
           "sortY": true,
           "swappedAxes": false,
           "textFormat": "",
           "useAggregationsUi": true,
           "valuesOptions": {},
           "version": 2,
           "xAxis": {
            "labels": {
             "enabled": true
            },
            "type": "-"
           },
           "yAxis": [
            {
             "type": "-"
            },
            {
             "opposite": true,
             "type": "-"
            }
           ]
          }
         }
        ]
       },
       "datasetPreviewNameToCmdIdMap": {},
       "diffDeletes": [],
       "diffInserts": [],
       "displayType": "redashChart",
       "error": null,
       "errorDetails": null,
       "errorSummary": null,
       "errorTraceType": null,
       "finishTime": 0,
       "globalVars": {},
       "guid": "",
       "height": "auto",
       "hideCommandCode": false,
       "hideCommandResult": false,
       "iPythonMetadata": null,
       "inputWidgets": {},
       "isLockedInExamMode": false,
       "latestUser": "a user",
       "latestUserId": null,
       "listResultMetadata": null,
       "metadata": {},
       "nuid": "b8e9fd05-f22f-4a1a-beb6-e8d4fac9a836",
       "origId": 0,
       "parentHierarchy": [],
       "pivotAggregation": null,
       "pivotColumns": null,
       "position": 13.0,
       "resultDbfsErrorMessage": null,
       "resultDbfsStatus": "INLINED_IN_TREE",
       "results": null,
       "showCommandTitle": false,
       "startTime": 0,
       "state": "input",
       "streamStates": {},
       "subcommandOptions": {
        "queryPlan": {
         "groups": [
          {
           "column": "release_year",
           "type": "column"
          }
         ],
         "selects": [
          {
           "column": "release_year",
           "type": "column"
          },
          {
           "alias": "column_7ce92e7222",
           "args": [
            {
             "column": "count",
             "type": "column"
            }
           ],
           "function": "SUM",
           "type": "function"
          }
         ]
        }
       },
       "submitTime": 0,
       "subtype": "tableResultSubCmd.visualization",
       "tableResultIndex": 0,
       "useConsistentColors": false,
       "version": "CommandV1",
       "width": "auto",
       "workflows": [],
       "xColumns": null,
       "yColumns": null
      }
     },
     "output_type": "display_data"
    }
   ],
   "source": [
    "release_year = df.select(F.year(F.to_date(df[\"data.release_date\"], format=\"yyyy/MM/d\")).alias(\"release_year\"))\n",
    "games_per_year = release_year.groupBy(\"release_year\").count()\n",
    "games_per_year_sorted = games_per_year.sort(F.desc(\"release_year\")).limit(15)\n",
    "display(games_per_year_sorted)"
   ]
  },
  {
   "cell_type": "code",
   "execution_count": 0,
   "metadata": {
    "application/vnd.databricks.v1+cell": {
     "cellMetadata": {
      "byteLimit": 2048000,
      "rowLimit": 10000
     },
     "inputWidgets": {},
     "nuid": "25e3a9be-119a-4525-827d-5bf2fd437f6a",
     "showTitle": false,
     "title": ""
    }
   },
   "outputs": [
    {
     "output_type": "display_data",
     "data": {
      "text/html": [
       "<style scoped>\n",
       "  .table-result-container {\n",
       "    max-height: 300px;\n",
       "    overflow: auto;\n",
       "  }\n",
       "  table, th, td {\n",
       "    border: 1px solid black;\n",
       "    border-collapse: collapse;\n",
       "  }\n",
       "  th, td {\n",
       "    padding: 5px;\n",
       "  }\n",
       "  th {\n",
       "    text-align: left;\n",
       "  }\n",
       "</style><div class='table-result-container'><table class='table-result'><thead style='background-color: white'><tr><th>language</th><th>count</th></tr></thead><tbody><tr><td>English</td><td>55116</td></tr><tr><td>German</td><td>14019</td></tr><tr><td>French</td><td>13426</td></tr><tr><td>Russian</td><td>12922</td></tr><tr><td>Simplified Chinese</td><td>12782</td></tr><tr><td>Spanish - Spain</td><td>12233</td></tr><tr><td>Japanese</td><td>10368</td></tr><tr><td>Italian</td><td>9304</td></tr><tr><td>Portuguese - Brazil</td><td>6750</td></tr><tr><td>Korean</td><td>6599</td></tr></tbody></table></div>"
      ]
     },
     "metadata": {
      "application/vnd.databricks.v1+output": {
       "addedWidgets": {},
       "aggData": [],
       "aggError": "",
       "aggOverflow": false,
       "aggSchema": [],
       "aggSeriesLimitReached": false,
       "aggType": "",
       "arguments": {},
       "columnCustomDisplayInfos": {},
       "data": [
        [
         "English",
         55116
        ],
        [
         "German",
         14019
        ],
        [
         "French",
         13426
        ],
        [
         "Russian",
         12922
        ],
        [
         "Simplified Chinese",
         12782
        ],
        [
         "Spanish - Spain",
         12233
        ],
        [
         "Japanese",
         10368
        ],
        [
         "Italian",
         9304
        ],
        [
         "Portuguese - Brazil",
         6750
        ],
        [
         "Korean",
         6599
        ]
       ],
       "datasetInfos": [],
       "dbfsResultPath": null,
       "isJsonSchema": true,
       "metadata": {},
       "overflow": false,
       "plotOptions": {
        "customPlotOptions": {},
        "displayType": "table",
        "pivotAggregation": null,
        "pivotColumns": null,
        "xColumns": null,
        "yColumns": null
       },
       "removedWidgets": [],
       "schema": [
        {
         "metadata": "{}",
         "name": "language",
         "type": "\"string\""
        },
        {
         "metadata": "{}",
         "name": "count",
         "type": "\"long\""
        }
       ],
       "type": "table"
      }
     },
     "output_type": "display_data"
    },
    {
     "output_type": "display_data",
     "data": {
      "text/plain": [
       "Databricks visualization. Run in Databricks to view."
      ]
     },
     "metadata": {
      "application/vnd.databricks.v1.subcommand+json": {
       "baseErrorDetails": null,
       "bindings": {},
       "collapsed": false,
       "command": "%python\n__backend_agg_display_orig = display\n__backend_agg_dfs = []\ndef __backend_agg_display_new(df):\n    __backend_agg_df_modules = [\"pandas.core.frame\", \"databricks.koalas.frame\", \"pyspark.sql.dataframe\", \"pyspark.pandas.frame\", \"pyspark.sql.connect.dataframe\"]\n    if (type(df).__module__ in __backend_agg_df_modules and type(df).__name__ == 'DataFrame') or isinstance(df, list):\n        __backend_agg_dfs.append(df)\n\ndisplay = __backend_agg_display_new\n\ndef __backend_agg_user_code_fn():\n    import base64\n    exec(base64.standard_b64decode(\"bGFuZ3VhZ2VzID0gZGYuc2VsZWN0KEYuZXhwbG9kZShGLnNwbGl0KGRmWydkYXRhLmxhbmd1YWdlcyddLCAnLCAnKSkuYWxpYXMoJ2xhbmd1YWdlJykpCiAKIyBDb3VudCB0aGUgbnVtYmVyIG9mIGdhbWVzIHBlciBsYW5ndWFnZQpsYW5ndWFnZV9jb3VudHMgPSBsYW5ndWFnZXMuZ3JvdXBCeSgnbGFuZ3VhZ2UnKS5jb3VudCgpCiAKIyBTaG93IHRoZSB0b3AgMTAgbW9zdCByZXByZXNlbnRlZCBsYW5ndWFnZXMKZGlzcGxheShsYW5ndWFnZV9jb3VudHMuc29ydCgnY291bnQnLCBhc2NlbmRpbmc9RmFsc2UpLmxpbWl0KDEwKSk=\").decode())\n\ntry:\n    # run user code\n    __backend_agg_user_code_fn()\n\n    #reset display function\n    display = __backend_agg_display_orig\n\n    if len(__backend_agg_dfs) > 0:\n        # create a temp view\n        if type(__backend_agg_dfs[0]).__module__ == \"databricks.koalas.frame\":\n            # koalas dataframe\n            __backend_agg_dfs[0].to_spark().createOrReplaceTempView(\"DatabricksView1a0fd48\")\n        elif type(__backend_agg_dfs[0]).__module__ == \"pandas.core.frame\" or isinstance(__backend_agg_dfs[0], list):\n            # pandas dataframe\n            spark.createDataFrame(__backend_agg_dfs[0]).createOrReplaceTempView(\"DatabricksView1a0fd48\")\n        else:\n            __backend_agg_dfs[0].createOrReplaceTempView(\"DatabricksView1a0fd48\")\n        #run backend agg\n        display(spark.sql(\"\"\"WITH q AS (select * from DatabricksView1a0fd48) SELECT `language`,SUM(`count`) `column_7ce92e7225` FROM q GROUP BY `language`\"\"\"))\n    else:\n        displayHTML(\"dataframe no longer exists. If you're using dataframe.display(), use display(dataframe) instead.\")\n\n\nfinally:\n    spark.sql(\"drop view if exists DatabricksView1a0fd48\")\n    display = __backend_agg_display_orig\n    del __backend_agg_display_new\n    del __backend_agg_display_orig\n    del __backend_agg_dfs\n    del __backend_agg_user_code_fn\n\n",
       "commandTitle": "Visualization 1",
       "commandType": "auto",
       "commandVersion": 0,
       "commentThread": [],
       "commentsVisible": false,
       "contentSha256Hex": null,
       "customPlotOptions": {
        "redashChart": [
         {
          "key": "type",
          "value": "CHART"
         },
         {
          "key": "options",
          "value": {
           "alignYAxesAtZero": true,
           "coefficient": 1,
           "columnConfigurationMap": {
            "x": {
             "column": "language",
             "id": "column_7ce92e7224"
            },
            "y": [
             {
              "column": "count",
              "id": "column_7ce92e7225",
              "transform": "SUM"
             }
            ]
           },
           "dateTimeFormat": "DD/MM/YYYY HH:mm",
           "direction": {
            "type": "counterclockwise"
           },
           "error_y": {
            "type": "data",
            "visible": true
           },
           "globalSeriesType": "column",
           "isAggregationOn": true,
           "legend": {
            "traceorder": "normal"
           },
           "missingValuesAsZero": true,
           "numberFormat": "0,0.[00000]",
           "percentFormat": "0[.]00%",
           "series": {
            "error_y": {
             "type": "data",
             "visible": true
            },
            "stacking": null
           },
           "seriesOptions": {
            "column_7ce92e7225": {
             "name": "count",
             "yAxis": 0
            }
           },
           "showDataLabels": true,
           "sizemode": "diameter",
           "sortX": false,
           "sortY": true,
           "swappedAxes": true,
           "textFormat": "",
           "useAggregationsUi": true,
           "valuesOptions": {},
           "version": 2,
           "xAxis": {
            "labels": {
             "enabled": true
            },
            "type": "-"
           },
           "yAxis": [
            {
             "type": "-"
            },
            {
             "opposite": true,
             "type": "-"
            }
           ]
          }
         }
        ]
       },
       "datasetPreviewNameToCmdIdMap": {},
       "diffDeletes": [],
       "diffInserts": [],
       "displayType": "redashChart",
       "error": null,
       "errorDetails": null,
       "errorSummary": null,
       "errorTraceType": null,
       "finishTime": 0,
       "globalVars": {},
       "guid": "",
       "height": "auto",
       "hideCommandCode": false,
       "hideCommandResult": false,
       "iPythonMetadata": null,
       "inputWidgets": {},
       "isLockedInExamMode": false,
       "latestUser": "a user",
       "latestUserId": null,
       "listResultMetadata": null,
       "metadata": {},
       "nuid": "b343fdaa-4e13-4649-9c9a-702460651e88",
       "origId": 0,
       "parentHierarchy": [],
       "pivotAggregation": null,
       "pivotColumns": null,
       "position": 14.0,
       "resultDbfsErrorMessage": null,
       "resultDbfsStatus": "INLINED_IN_TREE",
       "results": null,
       "showCommandTitle": false,
       "startTime": 0,
       "state": "input",
       "streamStates": {},
       "subcommandOptions": {
        "queryPlan": {
         "groups": [
          {
           "column": "language",
           "type": "column"
          }
         ],
         "selects": [
          {
           "column": "language",
           "type": "column"
          },
          {
           "alias": "column_7ce92e7225",
           "args": [
            {
             "column": "count",
             "type": "column"
            }
           ],
           "function": "SUM",
           "type": "function"
          }
         ]
        }
       },
       "submitTime": 0,
       "subtype": "tableResultSubCmd.visualization",
       "tableResultIndex": 0,
       "useConsistentColors": false,
       "version": "CommandV1",
       "width": "auto",
       "workflows": [],
       "xColumns": null,
       "yColumns": null
      }
     },
     "output_type": "display_data"
    }
   ],
   "source": [
    "languages = df.select(F.explode(F.split(df['data.languages'], ', ')).alias('language'))\n",
    " \n",
    "# Count the number of games per language\n",
    "language_counts = languages.groupBy('language').count()\n",
    " \n",
    "# Show the top 10 most represented languages\n",
    "display(language_counts.sort('count', ascending=False).limit(10))"
   ]
  },
  {
   "cell_type": "code",
   "execution_count": 0,
   "metadata": {
    "application/vnd.databricks.v1+cell": {
     "cellMetadata": {
      "byteLimit": 2048000,
      "rowLimit": 10000
     },
     "inputWidgets": {},
     "nuid": "08739465-6dfb-40cd-9807-e73d35575983",
     "showTitle": false,
     "title": ""
    }
   },
   "outputs": [
    {
     "output_type": "display_data",
     "data": {
      "text/html": [
       "<style scoped>\n",
       "  .table-result-container {\n",
       "    max-height: 300px;\n",
       "    overflow: auto;\n",
       "  }\n",
       "  table, th, td {\n",
       "    border: 1px solid black;\n",
       "    border-collapse: collapse;\n",
       "  }\n",
       "  th, td {\n",
       "    padding: 5px;\n",
       "  }\n",
       "  th {\n",
       "    text-align: left;\n",
       "  }\n",
       "</style><div class='table-result-container'><table class='table-result'><thead style='background-color: white'><tr><th>genre</th><th>count</th></tr></thead><tbody><tr><td>Indie</td><td>39681</td></tr><tr><td>Action</td><td>23759</td></tr><tr><td>Casual</td><td>22086</td></tr><tr><td>Adventure</td><td>21431</td></tr><tr><td>Strategy</td><td>10895</td></tr><tr><td>Simulation</td><td>10836</td></tr><tr><td>RPG</td><td>9534</td></tr><tr><td>Early Access</td><td>6145</td></tr><tr><td>Free to Play</td><td>3393</td></tr><tr><td>Sports</td><td>2666</td></tr></tbody></table></div>"
      ]
     },
     "metadata": {
      "application/vnd.databricks.v1+output": {
       "addedWidgets": {},
       "aggData": [],
       "aggError": "",
       "aggOverflow": false,
       "aggSchema": [],
       "aggSeriesLimitReached": false,
       "aggType": "",
       "arguments": {},
       "columnCustomDisplayInfos": {},
       "data": [
        [
         "Indie",
         39681
        ],
        [
         "Action",
         23759
        ],
        [
         "Casual",
         22086
        ],
        [
         "Adventure",
         21431
        ],
        [
         "Strategy",
         10895
        ],
        [
         "Simulation",
         10836
        ],
        [
         "RPG",
         9534
        ],
        [
         "Early Access",
         6145
        ],
        [
         "Free to Play",
         3393
        ],
        [
         "Sports",
         2666
        ]
       ],
       "datasetInfos": [],
       "dbfsResultPath": null,
       "isJsonSchema": true,
       "metadata": {},
       "overflow": false,
       "plotOptions": {
        "customPlotOptions": {},
        "displayType": "table",
        "pivotAggregation": null,
        "pivotColumns": null,
        "xColumns": null,
        "yColumns": null
       },
       "removedWidgets": [],
       "schema": [
        {
         "metadata": "{}",
         "name": "genre",
         "type": "\"string\""
        },
        {
         "metadata": "{}",
         "name": "count",
         "type": "\"long\""
        }
       ],
       "type": "table"
      }
     },
     "output_type": "display_data"
    },
    {
     "output_type": "display_data",
     "data": {
      "text/plain": [
       "Databricks visualization. Run in Databricks to view."
      ]
     },
     "metadata": {
      "application/vnd.databricks.v1.subcommand+json": {
       "baseErrorDetails": null,
       "bindings": {},
       "collapsed": false,
       "command": "%python\n__backend_agg_display_orig = display\n__backend_agg_dfs = []\ndef __backend_agg_display_new(df):\n    __backend_agg_df_modules = [\"pandas.core.frame\", \"databricks.koalas.frame\", \"pyspark.sql.dataframe\", \"pyspark.pandas.frame\", \"pyspark.sql.connect.dataframe\"]\n    if (type(df).__module__ in __backend_agg_df_modules and type(df).__name__ == 'DataFrame') or isinstance(df, list):\n        __backend_agg_dfs.append(df)\n\ndisplay = __backend_agg_display_new\n\ndef __backend_agg_user_code_fn():\n    import base64\n    exec(base64.standard_b64decode(\"Z2VucmVzID0gZGYuc2VsZWN0KEYuZXhwbG9kZShGLnNwbGl0KGRmWydkYXRhLmdlbnJlJ10sICcsICcpKS5hbGlhcygnZ2VucmUnKSkKIAojIENvdW50IHRoZSBudW1iZXIgb2YgZ2FtZXMgcGVyIGxhbmd1YWdlCmNvdW50cyA9IGdlbnJlcy5ncm91cEJ5KCdnZW5yZScpLmNvdW50KCkKIAojIFNob3cgdGhlIHRvcCAxMCBtb3N0IHJlcHJlc2VudGVkIGxhbmd1YWdlcwpkaXNwbGF5KGNvdW50cy5zb3J0KCdjb3VudCcsIGFzY2VuZGluZz1GYWxzZSkubGltaXQoMTApKQ==\").decode())\n\ntry:\n    # run user code\n    __backend_agg_user_code_fn()\n\n    #reset display function\n    display = __backend_agg_display_orig\n\n    if len(__backend_agg_dfs) > 0:\n        # create a temp view\n        if type(__backend_agg_dfs[0]).__module__ == \"databricks.koalas.frame\":\n            # koalas dataframe\n            __backend_agg_dfs[0].to_spark().createOrReplaceTempView(\"DatabricksView425fae9\")\n        elif type(__backend_agg_dfs[0]).__module__ == \"pandas.core.frame\" or isinstance(__backend_agg_dfs[0], list):\n            # pandas dataframe\n            spark.createDataFrame(__backend_agg_dfs[0]).createOrReplaceTempView(\"DatabricksView425fae9\")\n        else:\n            __backend_agg_dfs[0].createOrReplaceTempView(\"DatabricksView425fae9\")\n        #run backend agg\n        display(spark.sql(\"\"\"WITH q AS (select * from DatabricksView425fae9) SELECT `genre`,SUM(`count`) `column_7ce92e7236` FROM q GROUP BY `genre`\"\"\"))\n    else:\n        displayHTML(\"dataframe no longer exists. If you're using dataframe.display(), use display(dataframe) instead.\")\n\n\nfinally:\n    spark.sql(\"drop view if exists DatabricksView425fae9\")\n    display = __backend_agg_display_orig\n    del __backend_agg_display_new\n    del __backend_agg_display_orig\n    del __backend_agg_dfs\n    del __backend_agg_user_code_fn\n\n",
       "commandTitle": "Visualization 1",
       "commandType": "auto",
       "commandVersion": 0,
       "commentThread": [],
       "commentsVisible": false,
       "contentSha256Hex": null,
       "customPlotOptions": {
        "redashChart": [
         {
          "key": "type",
          "value": "CHART"
         },
         {
          "key": "options",
          "value": {
           "alignYAxesAtZero": true,
           "coefficient": 1,
           "columnConfigurationMap": {
            "x": {
             "column": "genre",
             "id": "column_7ce92e7235"
            },
            "y": [
             {
              "column": "count",
              "id": "column_7ce92e7236",
              "transform": "SUM"
             }
            ]
           },
           "dateTimeFormat": "DD/MM/YYYY HH:mm",
           "direction": {
            "type": "counterclockwise"
           },
           "error_y": {
            "type": "data",
            "visible": true
           },
           "globalSeriesType": "pie",
           "legend": {
            "traceorder": "normal"
           },
           "missingValuesAsZero": true,
           "numberFormat": "0,0.[00000]",
           "percentFormat": "0[.]00%",
           "series": {
            "error_y": {
             "type": "data",
             "visible": true
            },
            "stacking": null
           },
           "seriesOptions": {
            "column_7ce92e7236": {
             "name": "count",
             "type": "pie",
             "yAxis": 0
            }
           },
           "showDataLabels": true,
           "sizemode": "diameter",
           "sortX": true,
           "sortY": true,
           "swappedAxes": false,
           "textFormat": "",
           "useAggregationsUi": true,
           "valuesOptions": {},
           "version": 2,
           "xAxis": {
            "labels": {
             "enabled": true
            },
            "type": "-"
           },
           "yAxis": [
            {
             "type": "-"
            },
            {
             "opposite": true,
             "type": "-"
            }
           ]
          }
         }
        ]
       },
       "datasetPreviewNameToCmdIdMap": {},
       "diffDeletes": [],
       "diffInserts": [],
       "displayType": "redashChart",
       "error": null,
       "errorDetails": null,
       "errorSummary": null,
       "errorTraceType": null,
       "finishTime": 0,
       "globalVars": {},
       "guid": "",
       "height": "auto",
       "hideCommandCode": false,
       "hideCommandResult": false,
       "iPythonMetadata": null,
       "inputWidgets": {},
       "isLockedInExamMode": false,
       "latestUser": "a user",
       "latestUserId": null,
       "listResultMetadata": null,
       "metadata": {},
       "nuid": "9d694242-ed6c-4a4c-9439-2c54cde18c05",
       "origId": 0,
       "parentHierarchy": [],
       "pivotAggregation": null,
       "pivotColumns": null,
       "position": 15.0,
       "resultDbfsErrorMessage": null,
       "resultDbfsStatus": "INLINED_IN_TREE",
       "results": null,
       "showCommandTitle": false,
       "startTime": 0,
       "state": "input",
       "streamStates": {},
       "subcommandOptions": {
        "queryPlan": {
         "groups": [
          {
           "column": "genre",
           "type": "column"
          }
         ],
         "selects": [
          {
           "column": "genre",
           "type": "column"
          },
          {
           "alias": "column_7ce92e7236",
           "args": [
            {
             "column": "count",
             "type": "column"
            }
           ],
           "function": "SUM",
           "type": "function"
          }
         ]
        }
       },
       "submitTime": 0,
       "subtype": "tableResultSubCmd.visualization",
       "tableResultIndex": 0,
       "useConsistentColors": false,
       "version": "CommandV1",
       "width": "auto",
       "workflows": [],
       "xColumns": null,
       "yColumns": null
      }
     },
     "output_type": "display_data"
    }
   ],
   "source": [
    "genres = df.select(F.explode(F.split(df['data.genre'], ', ')).alias('genre'))\n",
    " \n",
    "# Count the number of games per language\n",
    "counts = genres.groupBy('genre').count()\n",
    " \n",
    "# Show the top 10 most represented languages\n",
    "display(counts.sort('count', ascending=False).limit(10))"
   ]
  },
  {
   "cell_type": "code",
   "execution_count": 0,
   "metadata": {
    "application/vnd.databricks.v1+cell": {
     "cellMetadata": {
      "byteLimit": 2048000,
      "rowLimit": 10000
     },
     "inputWidgets": {},
     "nuid": "7b825706-6d30-4720-a3be-1da112ec104c",
     "showTitle": false,
     "title": ""
    }
   },
   "outputs": [
    {
     "output_type": "display_data",
     "data": {
      "text/html": [
       "<style scoped>\n",
       "  .table-result-container {\n",
       "    max-height: 300px;\n",
       "    overflow: auto;\n",
       "  }\n",
       "  table, th, td {\n",
       "    border: 1px solid black;\n",
       "    border-collapse: collapse;\n",
       "  }\n",
       "  th, td {\n",
       "    padding: 5px;\n",
       "  }\n",
       "  th {\n",
       "    text-align: left;\n",
       "  }\n",
       "</style><div class='table-result-container'><table class='table-result'><thead style='background-color: white'><tr><th>genre</th><th>sum(estimated_gross)</th></tr></thead><tbody><tr><td>Action</td><td>5.87564541E10</td></tr><tr><td>Adventure</td><td>3.724573845E10</td></tr><tr><td>Indie</td><td>3.23465771E10</td></tr><tr><td>RPG</td><td>2.71731431E10</td></tr><tr><td>Strategy</td><td>2.015004105E10</td></tr><tr><td>Simulation</td><td>1.876974955E10</td></tr><tr><td>Casual</td><td>8.08095665E9</td></tr><tr><td>Massively Multiplayer</td><td>5.93015775E9</td></tr><tr><td>Early Access</td><td>5.45866145E9</td></tr><tr><td>Sports</td><td>3.14989735E9</td></tr></tbody></table></div>"
      ]
     },
     "metadata": {
      "application/vnd.databricks.v1+output": {
       "addedWidgets": {},
       "aggData": [],
       "aggError": "",
       "aggOverflow": false,
       "aggSchema": [],
       "aggSeriesLimitReached": false,
       "aggType": "",
       "arguments": {},
       "columnCustomDisplayInfos": {},
       "data": [
        [
         "Action",
         5.87564541E10
        ],
        [
         "Adventure",
         3.724573845E10
        ],
        [
         "Indie",
         3.23465771E10
        ],
        [
         "RPG",
         2.71731431E10
        ],
        [
         "Strategy",
         2.015004105E10
        ],
        [
         "Simulation",
         1.876974955E10
        ],
        [
         "Casual",
         8.08095665E9
        ],
        [
         "Massively Multiplayer",
         5.93015775E9
        ],
        [
         "Early Access",
         5.45866145E9
        ],
        [
         "Sports",
         3.14989735E9
        ]
       ],
       "datasetInfos": [],
       "dbfsResultPath": null,
       "isJsonSchema": true,
       "metadata": {},
       "overflow": false,
       "plotOptions": {
        "customPlotOptions": {},
        "displayType": "table",
        "pivotAggregation": null,
        "pivotColumns": null,
        "xColumns": null,
        "yColumns": null
       },
       "removedWidgets": [],
       "schema": [
        {
         "metadata": "{}",
         "name": "genre",
         "type": "\"string\""
        },
        {
         "metadata": "{}",
         "name": "sum(estimated_gross)",
         "type": "\"double\""
        }
       ],
       "type": "table"
      }
     },
     "output_type": "display_data"
    },
    {
     "output_type": "display_data",
     "data": {
      "text/plain": [
       "Databricks visualization. Run in Databricks to view."
      ]
     },
     "metadata": {
      "application/vnd.databricks.v1.subcommand+json": {
       "baseErrorDetails": null,
       "bindings": {},
       "collapsed": false,
       "command": "%python\n__backend_agg_display_orig = display\n__backend_agg_dfs = []\ndef __backend_agg_display_new(df):\n    __backend_agg_df_modules = [\"pandas.core.frame\", \"databricks.koalas.frame\", \"pyspark.sql.dataframe\", \"pyspark.pandas.frame\", \"pyspark.sql.connect.dataframe\"]\n    if (type(df).__module__ in __backend_agg_df_modules and type(df).__name__ == 'DataFrame') or isinstance(df, list):\n        __backend_agg_dfs.append(df)\n\ndisplay = __backend_agg_display_new\n\ndef __backend_agg_user_code_fn():\n    import base64\n    exec(base64.standard_b64decode(\"Z2VucmVzID0gZGYuc2VsZWN0KGRmWydkYXRhLmdlbnJlJ10uYWxpYXMoJ2dlbnJlJyksIGRmWydkYXRhLm93bmVycyddLmFsaWFzKCdvd25lcnMnKSwgZGZbJ2RhdGEucHJpY2UnXS5hbGlhcygncHJpY2UnKSkKIAojIFNwbGl0IHRoZSBvd25lcnMgZmllbGQgaW50byB0d28gY29sdW1ucwpnZW5yZXMgPSBnZW5yZXMud2l0aENvbHVtbigib3duZXJzX3N0YXJ0IiwgRi5leHByKCJmbG9hdChyZWdleHBfcmVwbGFjZShzcGxpdChvd25lcnMsICcgLi4gJylbMF0sICcsJywgJycpKSIpKQpnZW5yZXMgPSBnZW5yZXMud2l0aENvbHVtbigib3duZXJzX2VuZCIsIEYuZXhwcigiZmxvYXQocmVnZXhwX3JlcGxhY2Uoc3BsaXQob3duZXJzLCAnIC4uICcpWzFdLCAnLCcsICcnKSkiKSkKZ2VucmVzID0gZ2VucmVzLndpdGhDb2x1bW4oInByaWNlIiwgZ2VucmVzWyJwcmljZSJdLmNhc3QoVC5GbG9hdFR5cGUoKSkvMTAwLjApCiMgQ29tcHV0ZSB0aGUgYXZlcmFnZSBvZiB0aGUgb3duZXJzX3N0YXJ0IGFuZCBvd25lcnNfZW5kLCBhbmQgbXVsdGlwbHkgYnkgdGhlIHByaWNlCmdlbnJlcyA9IGdlbnJlcy53aXRoQ29sdW1uKCJlc3RpbWF0ZWRfZ3Jvc3MiLCAoZ2VucmVzWyJvd25lcnNfc3RhcnQiXSArIGdlbnJlc1sib3duZXJzX2VuZCJdKSAvIDIgKiBnZW5yZXNbInByaWNlIl0pCmdlbnJlcyA9IGdlbnJlcy53aXRoQ29sdW1uKCdnZW5yZScsIEYuZXhwbG9kZShGLnNwbGl0KEYuY29sKCdnZW5yZScpLCAnLCAnKSkpCiMgQ2FsY3VsYXRlIHRoZSB0b3RhbCBlc3RpbWF0ZWQgZ3Jvc3MgZm9yIGVhY2ggZ2VucmUKZ2VucmVfZ3Jvc3MgPSBnZW5yZXMuZ3JvdXBCeSgnZ2VucmUnKS5zdW0oJ2VzdGltYXRlZF9ncm9zcycpCiAKIyBTaG93IHRoZSBnZW5yZXMgd2l0aCB0aGUgaGlnaGVzdCB0b3RhbCBlc3RpbWF0ZWQgZ3Jvc3MKZGlzcGxheShnZW5yZV9ncm9zcy5zb3J0KCdzdW0oZXN0aW1hdGVkX2dyb3NzKScsIGFzY2VuZGluZz1GYWxzZSkubGltaXQoMTApKQ==\").decode())\n\ntry:\n    # run user code\n    __backend_agg_user_code_fn()\n\n    #reset display function\n    display = __backend_agg_display_orig\n\n    if len(__backend_agg_dfs) > 0:\n        # create a temp view\n        if type(__backend_agg_dfs[0]).__module__ == \"databricks.koalas.frame\":\n            # koalas dataframe\n            __backend_agg_dfs[0].to_spark().createOrReplaceTempView(\"DatabricksViewdf108e2\")\n        elif type(__backend_agg_dfs[0]).__module__ == \"pandas.core.frame\" or isinstance(__backend_agg_dfs[0], list):\n            # pandas dataframe\n            spark.createDataFrame(__backend_agg_dfs[0]).createOrReplaceTempView(\"DatabricksViewdf108e2\")\n        else:\n            __backend_agg_dfs[0].createOrReplaceTempView(\"DatabricksViewdf108e2\")\n        #run backend agg\n        display(spark.sql(\"\"\"WITH q AS (select * from DatabricksViewdf108e2) SELECT `genre`,SUM(`sum(estimated_gross)`) `column_7ce92e7239` FROM q GROUP BY `genre`\"\"\"))\n    else:\n        displayHTML(\"dataframe no longer exists. If you're using dataframe.display(), use display(dataframe) instead.\")\n\n\nfinally:\n    spark.sql(\"drop view if exists DatabricksViewdf108e2\")\n    display = __backend_agg_display_orig\n    del __backend_agg_display_new\n    del __backend_agg_display_orig\n    del __backend_agg_dfs\n    del __backend_agg_user_code_fn\n\n",
       "commandTitle": "Visualization 1",
       "commandType": "auto",
       "commandVersion": 0,
       "commentThread": [],
       "commentsVisible": false,
       "contentSha256Hex": null,
       "customPlotOptions": {
        "redashChart": [
         {
          "key": "type",
          "value": "CHART"
         },
         {
          "key": "options",
          "value": {
           "alignYAxesAtZero": true,
           "coefficient": 1,
           "columnConfigurationMap": {
            "x": {
             "column": "genre",
             "id": "column_7ce92e7238"
            },
            "y": [
             {
              "column": "sum(estimated_gross)",
              "id": "column_7ce92e7239",
              "transform": "SUM"
             }
            ]
           },
           "dateTimeFormat": "DD/MM/YYYY HH:mm",
           "direction": {
            "type": "counterclockwise"
           },
           "error_y": {
            "type": "data",
            "visible": true
           },
           "globalSeriesType": "column",
           "isAggregationOn": true,
           "legend": {
            "traceorder": "normal"
           },
           "missingValuesAsZero": true,
           "numberFormat": "0,0.[00000]",
           "percentFormat": "0[.]00%",
           "series": {
            "error_y": {
             "type": "data",
             "visible": true
            },
            "stacking": null
           },
           "seriesOptions": {
            "column_7ce92e7239": {
             "name": "sum(estimated_gross)",
             "yAxis": 0
            }
           },
           "showDataLabels": true,
           "sizemode": "diameter",
           "sortX": false,
           "sortY": true,
           "swappedAxes": true,
           "textFormat": "",
           "useAggregationsUi": true,
           "valuesOptions": {},
           "version": 2,
           "xAxis": {
            "labels": {
             "enabled": true
            },
            "type": "-"
           },
           "yAxis": [
            {
             "type": "-"
            },
            {
             "opposite": true,
             "type": "-"
            }
           ]
          }
         }
        ]
       },
       "datasetPreviewNameToCmdIdMap": {},
       "diffDeletes": [],
       "diffInserts": [],
       "displayType": "redashChart",
       "error": null,
       "errorDetails": null,
       "errorSummary": null,
       "errorTraceType": null,
       "finishTime": 0,
       "globalVars": {},
       "guid": "",
       "height": "auto",
       "hideCommandCode": false,
       "hideCommandResult": false,
       "iPythonMetadata": null,
       "inputWidgets": {},
       "isLockedInExamMode": false,
       "latestUser": "a user",
       "latestUserId": null,
       "listResultMetadata": null,
       "metadata": {},
       "nuid": "ac8a788d-3649-4f4d-9d42-effeb90d07cb",
       "origId": 0,
       "parentHierarchy": [],
       "pivotAggregation": null,
       "pivotColumns": null,
       "position": 16.0,
       "resultDbfsErrorMessage": null,
       "resultDbfsStatus": "INLINED_IN_TREE",
       "results": null,
       "showCommandTitle": false,
       "startTime": 0,
       "state": "input",
       "streamStates": {},
       "subcommandOptions": {
        "queryPlan": {
         "groups": [
          {
           "column": "genre",
           "type": "column"
          }
         ],
         "selects": [
          {
           "column": "genre",
           "type": "column"
          },
          {
           "alias": "column_7ce92e7239",
           "args": [
            {
             "column": "sum(estimated_gross)",
             "type": "column"
            }
           ],
           "function": "SUM",
           "type": "function"
          }
         ]
        }
       },
       "submitTime": 0,
       "subtype": "tableResultSubCmd.visualization",
       "tableResultIndex": 0,
       "useConsistentColors": false,
       "version": "CommandV1",
       "width": "auto",
       "workflows": [],
       "xColumns": null,
       "yColumns": null
      }
     },
     "output_type": "display_data"
    }
   ],
   "source": [
    "genres = df.select(df['data.genre'].alias('genre'), df['data.owners'].alias('owners'), df['data.price'].alias('price'))\n",
    " \n",
    "# Split the owners field into two columns\n",
    "genres = genres.withColumn(\"owners_start\", F.expr(\"float(regexp_replace(split(owners, ' .. ')[0], ',', ''))\"))\n",
    "genres = genres.withColumn(\"owners_end\", F.expr(\"float(regexp_replace(split(owners, ' .. ')[1], ',', ''))\"))\n",
    "genres = genres.withColumn(\"price\", genres[\"price\"].cast(T.FloatType())/100.0)\n",
    "# Compute the average of the owners_start and owners_end, and multiply by the price\n",
    "genres = genres.withColumn(\"estimated_gross\", (genres[\"owners_start\"] + genres[\"owners_end\"]) / 2 * genres[\"price\"])\n",
    "genres = genres.withColumn('genre', F.explode(F.split(F.col('genre'), ', ')))\n",
    "# Calculate the total estimated gross for each genre\n",
    "genre_gross = genres.groupBy('genre').sum('estimated_gross')\n",
    " \n",
    "# Show the genres with the highest total estimated gross\n",
    "display(genre_gross.sort('sum(estimated_gross)', ascending=False).limit(10))"
   ]
  },
  {
   "cell_type": "code",
   "execution_count": 0,
   "metadata": {
    "application/vnd.databricks.v1+cell": {
     "cellMetadata": {
      "byteLimit": 2048000,
      "rowLimit": 10000
     },
     "inputWidgets": {},
     "nuid": "74c3127b-8471-48a7-be6f-ea8d0b3b2a84",
     "showTitle": false,
     "title": ""
    }
   },
   "outputs": [
    {
     "output_type": "display_data",
     "data": {
      "text/html": [
       "<style scoped>\n",
       "  .table-result-container {\n",
       "    max-height: 300px;\n",
       "    overflow: auto;\n",
       "  }\n",
       "  table, th, td {\n",
       "    border: 1px solid black;\n",
       "    border-collapse: collapse;\n",
       "  }\n",
       "  th, td {\n",
       "    padding: 5px;\n",
       "  }\n",
       "  th {\n",
       "    text-align: left;\n",
       "  }\n",
       "</style><div class='table-result-container'><table class='table-result'><thead style='background-color: white'><tr><th>windows_count</th><th>mac_count</th><th>linux_count</th></tr></thead><tbody><tr><td>55676</td><td>12770</td><td>8458</td></tr></tbody></table></div>"
      ]
     },
     "metadata": {
      "application/vnd.databricks.v1+output": {
       "addedWidgets": {},
       "aggData": [],
       "aggError": "",
       "aggOverflow": false,
       "aggSchema": [],
       "aggSeriesLimitReached": false,
       "aggType": "",
       "arguments": {},
       "columnCustomDisplayInfos": {},
       "data": [
        [
         55676,
         12770,
         8458
        ]
       ],
       "datasetInfos": [],
       "dbfsResultPath": null,
       "isJsonSchema": true,
       "metadata": {},
       "overflow": false,
       "plotOptions": {
        "customPlotOptions": {},
        "displayType": "table",
        "pivotAggregation": null,
        "pivotColumns": null,
        "xColumns": null,
        "yColumns": null
       },
       "removedWidgets": [],
       "schema": [
        {
         "metadata": "{}",
         "name": "windows_count",
         "type": "\"long\""
        },
        {
         "metadata": "{}",
         "name": "mac_count",
         "type": "\"long\""
        },
        {
         "metadata": "{}",
         "name": "linux_count",
         "type": "\"long\""
        }
       ],
       "type": "table"
      }
     },
     "output_type": "display_data"
    }
   ],
   "source": [
    "# Count the number of games available on each platform\n",
    "platform_counts = df.agg(F.sum(df['data.platforms.windows'].cast(\"int\")).alias('windows_count'),\n",
    "                         F.sum(df['data.platforms.mac'].cast(\"int\")).alias('mac_count'),\n",
    "                         F.sum(df['data.platforms.linux'].cast(\"int\")).alias('linux_count'))\n",
    " \n",
    "display(platform_counts)"
   ]
  }
 ],
 "metadata": {
  "application/vnd.databricks.v1+notebook": {
   "dashboards": [
    {
     "elements": [
      {
       "dashboardResultIndex": 0,
       "elementNUID": "b77cdbb2-ab84-402b-8aca-0cbf1fc3f308",
       "elementType": "command",
       "guid": "4d935833-16b4-4c8f-8820-a427debd582b",
       "options": null,
       "position": {
        "height": 6,
        "width": 12,
        "x": 0,
        "y": 0,
        "z": null
       },
       "resultIndex": null
      }
     ],
     "globalVars": {},
     "guid": "",
     "layoutOption": {
      "grid": true,
      "stack": true
     },
     "nuid": "4184e774-b660-478b-80e0-42cfdcb74e1c",
     "origId": 1135089690965838,
     "title": "Untitled",
     "version": "DashboardViewV1",
     "width": 1024
    }
   ],
   "environmentMetadata": null,
   "language": "python",
   "notebookMetadata": {
    "pythonIndentUnit": 4
   },
   "notebookName": "bigdata_project",
   "widgets": {}
  }
 },
 "nbformat": 4,
 "nbformat_minor": 0
}
